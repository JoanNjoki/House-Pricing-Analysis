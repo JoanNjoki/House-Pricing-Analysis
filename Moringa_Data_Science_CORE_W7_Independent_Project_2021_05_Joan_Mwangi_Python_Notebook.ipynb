{
  "nbformat": 4,
  "nbformat_minor": 0,
  "metadata": {
    "colab": {
      "name": "Moringa_Data_Science_CORE_W7_Independent_Project_2021_05_Joan_Mwangi_Python_Notebook.ipynb",
      "provenance": [],
      "collapsed_sections": [
        "kLG2VTrnTvYL",
        "XecOwPNorl2W",
        "J4wfHZwQrs-t",
        "a9BPYqunry97",
        "7KMRBJ7zr9HD",
        "zSGyg6kWsBUl",
        "iUNbvIvnT7ep",
        "OI3P3YnHUEBk",
        "ckfufNrcUHeH",
        "6XC_g-zKxe-r",
        "FlBMxEDBUc9B",
        "rF2ABPsHUtbZ",
        "vTbdjSrhVIiT",
        "lQ2G4ZPDVOXE",
        "xrmHVMVsVS--",
        "HPQviDmNtta8",
        "qjFHK1CKty7o",
        "HSsicSdvt4Zs"
      ],
      "include_colab_link": true
    },
    "kernelspec": {
      "name": "python3",
      "display_name": "Python 3"
    }
  },
  "cells": [
    {
      "cell_type": "markdown",
      "metadata": {
        "id": "view-in-github",
        "colab_type": "text"
      },
      "source": [
        "<a href=\"https://colab.research.google.com/github/JoanNjoki/House-Pricing-Analysis/blob/main/Moringa_Data_Science_CORE_W7_Independent_Project_2021_05_Joan_Mwangi_Python_Notebook.ipynb\" target=\"_parent\"><img src=\"https://colab.research.google.com/assets/colab-badge.svg\" alt=\"Open In Colab\"/></a>"
      ]
    },
    {
      "cell_type": "markdown",
      "metadata": {
        "id": "xMxtPsqcTsSH"
      },
      "source": [
        "# **House Pricing Data Analysis**"
      ]
    },
    {
      "cell_type": "markdown",
      "metadata": {
        "id": "kLG2VTrnTvYL"
      },
      "source": [
        "## 1. Defining the Question"
      ]
    },
    {
      "cell_type": "markdown",
      "metadata": {
        "id": "XecOwPNorl2W"
      },
      "source": [
        "### a) Main objective\n",
        "To identify  factors that affect house pricing by creating regression models that would accurately predict the sales of houses with the given predictor variables.  \n"
      ]
    },
    {
      "cell_type": "markdown",
      "metadata": {
        "id": "J4wfHZwQrs-t"
      },
      "source": [
        "### b) Metric for Success\n",
        "Successfully identify predictor variables that affect  house pricing"
      ]
    },
    {
      "cell_type": "markdown",
      "metadata": {
        "id": "a9BPYqunry97"
      },
      "source": [
        "### c) Context \n",
        "Identifying factors that aids in understanding price fluctuations in the real estate industry."
      ]
    },
    {
      "cell_type": "markdown",
      "metadata": {
        "id": "7KMRBJ7zr9HD"
      },
      "source": [
        "### d) Recording the Experimental Design\n",
        "* find and deal with outliers,anomalies, and missing data within the dataset\n",
        "* perform univariate, bivariate, and multivariate analysis\n",
        "* perform the following regression analysis:\n",
        "  * Multiple Linear Regression\n",
        "  * Quantile regression\n",
        "  * Ridge regression\n",
        "  * Lasso regression\n",
        "  * Elastic Net regression\n",
        "* recommend based on the findings\n",
        "* create residual plots for the models\n",
        "* check for heteroscedacticity using bartlett's test\n",
        "*  challenge the solution\n",
        "\n"
      ]
    },
    {
      "cell_type": "markdown",
      "metadata": {
        "id": "zSGyg6kWsBUl"
      },
      "source": [
        "### e) Data Relevance\n",
        "The variables within the dataset such as number of bedrooms, condition of the houses are relevant in predicting house pricing"
      ]
    },
    {
      "cell_type": "markdown",
      "metadata": {
        "id": "iUNbvIvnT7ep"
      },
      "source": [
        "## 2. Reading the Data"
      ]
    },
    {
      "cell_type": "code",
      "metadata": {
        "id": "XJn2KjW-WMlG"
      },
      "source": [
        "#importing libraries\n",
        "import pandas as pd\n",
        "import numpy as np\n",
        "import seaborn as sns\n",
        "import matplotlib.pyplot as plt\n",
        "from sklearn.model_selection import train_test_split,GridSearchCV\n",
        "from sklearn.metrics import mean_squared_error\n",
        "from sklearn.linear_model import LinearRegression,Ridge,Lasso,ElasticNet\n",
        "import warnings\n",
        "warnings.filterwarnings('ignore')"
      ],
      "execution_count": 97,
      "outputs": []
    },
    {
      "cell_type": "code",
      "metadata": {
        "id": "xehLH4EtFL3l"
      },
      "source": [
        "#loading the dataset into the environment\n",
        "housing = pd.read_csv('/content/Independent Project Week 7 - house_data.csv')"
      ],
      "execution_count": 2,
      "outputs": []
    },
    {
      "cell_type": "markdown",
      "metadata": {
        "id": "OI3P3YnHUEBk"
      },
      "source": [
        "## 3. Checking the Data"
      ]
    },
    {
      "cell_type": "code",
      "metadata": {
        "id": "YjSVNwgptHxY",
        "colab": {
          "base_uri": "https://localhost:8080/"
        },
        "outputId": "c15e33e2-0fa2-4353-9bc5-e59cc0414e98"
      },
      "source": [
        "# Determining the no. of records in our dataset\n",
        "#\n",
        "housing.shape"
      ],
      "execution_count": 3,
      "outputs": [
        {
          "output_type": "execute_result",
          "data": {
            "text/plain": [
              "(21613, 20)"
            ]
          },
          "metadata": {
            "tags": []
          },
          "execution_count": 3
        }
      ]
    },
    {
      "cell_type": "markdown",
      "metadata": {
        "id": "-ylzyMnStMUY"
      },
      "source": [
        "there are 21613 rows and 20 columns "
      ]
    },
    {
      "cell_type": "code",
      "metadata": {
        "id": "xHhTw5eKWr0n",
        "colab": {
          "base_uri": "https://localhost:8080/",
          "height": 218
        },
        "outputId": "89806638-80ac-4ac5-8590-f127a20e8c20"
      },
      "source": [
        "# Previewing the top of our dataset\n",
        "housing.head()"
      ],
      "execution_count": 4,
      "outputs": [
        {
          "output_type": "execute_result",
          "data": {
            "text/html": [
              "<div>\n",
              "<style scoped>\n",
              "    .dataframe tbody tr th:only-of-type {\n",
              "        vertical-align: middle;\n",
              "    }\n",
              "\n",
              "    .dataframe tbody tr th {\n",
              "        vertical-align: top;\n",
              "    }\n",
              "\n",
              "    .dataframe thead th {\n",
              "        text-align: right;\n",
              "    }\n",
              "</style>\n",
              "<table border=\"1\" class=\"dataframe\">\n",
              "  <thead>\n",
              "    <tr style=\"text-align: right;\">\n",
              "      <th></th>\n",
              "      <th>id</th>\n",
              "      <th>price</th>\n",
              "      <th>bedrooms</th>\n",
              "      <th>bathrooms</th>\n",
              "      <th>sqft_living</th>\n",
              "      <th>sqft_lot</th>\n",
              "      <th>floors</th>\n",
              "      <th>waterfront</th>\n",
              "      <th>view</th>\n",
              "      <th>condition</th>\n",
              "      <th>grade</th>\n",
              "      <th>sqft_above</th>\n",
              "      <th>sqft_basement</th>\n",
              "      <th>yr_built</th>\n",
              "      <th>yr_renovated</th>\n",
              "      <th>zipcode</th>\n",
              "      <th>lat</th>\n",
              "      <th>long</th>\n",
              "      <th>sqft_living15</th>\n",
              "      <th>sqft_lot15</th>\n",
              "    </tr>\n",
              "  </thead>\n",
              "  <tbody>\n",
              "    <tr>\n",
              "      <th>0</th>\n",
              "      <td>7129300520</td>\n",
              "      <td>221900.0</td>\n",
              "      <td>3</td>\n",
              "      <td>1.00</td>\n",
              "      <td>1180</td>\n",
              "      <td>5650</td>\n",
              "      <td>1.0</td>\n",
              "      <td>0</td>\n",
              "      <td>0</td>\n",
              "      <td>3</td>\n",
              "      <td>7</td>\n",
              "      <td>1180</td>\n",
              "      <td>0</td>\n",
              "      <td>1955</td>\n",
              "      <td>0</td>\n",
              "      <td>98178</td>\n",
              "      <td>47.5112</td>\n",
              "      <td>-122.257</td>\n",
              "      <td>1340</td>\n",
              "      <td>5650</td>\n",
              "    </tr>\n",
              "    <tr>\n",
              "      <th>1</th>\n",
              "      <td>6414100192</td>\n",
              "      <td>538000.0</td>\n",
              "      <td>3</td>\n",
              "      <td>2.25</td>\n",
              "      <td>2570</td>\n",
              "      <td>7242</td>\n",
              "      <td>2.0</td>\n",
              "      <td>0</td>\n",
              "      <td>0</td>\n",
              "      <td>3</td>\n",
              "      <td>7</td>\n",
              "      <td>2170</td>\n",
              "      <td>400</td>\n",
              "      <td>1951</td>\n",
              "      <td>1991</td>\n",
              "      <td>98125</td>\n",
              "      <td>47.7210</td>\n",
              "      <td>-122.319</td>\n",
              "      <td>1690</td>\n",
              "      <td>7639</td>\n",
              "    </tr>\n",
              "    <tr>\n",
              "      <th>2</th>\n",
              "      <td>5631500400</td>\n",
              "      <td>180000.0</td>\n",
              "      <td>2</td>\n",
              "      <td>1.00</td>\n",
              "      <td>770</td>\n",
              "      <td>10000</td>\n",
              "      <td>1.0</td>\n",
              "      <td>0</td>\n",
              "      <td>0</td>\n",
              "      <td>3</td>\n",
              "      <td>6</td>\n",
              "      <td>770</td>\n",
              "      <td>0</td>\n",
              "      <td>1933</td>\n",
              "      <td>0</td>\n",
              "      <td>98028</td>\n",
              "      <td>47.7379</td>\n",
              "      <td>-122.233</td>\n",
              "      <td>2720</td>\n",
              "      <td>8062</td>\n",
              "    </tr>\n",
              "    <tr>\n",
              "      <th>3</th>\n",
              "      <td>2487200875</td>\n",
              "      <td>604000.0</td>\n",
              "      <td>4</td>\n",
              "      <td>3.00</td>\n",
              "      <td>1960</td>\n",
              "      <td>5000</td>\n",
              "      <td>1.0</td>\n",
              "      <td>0</td>\n",
              "      <td>0</td>\n",
              "      <td>5</td>\n",
              "      <td>7</td>\n",
              "      <td>1050</td>\n",
              "      <td>910</td>\n",
              "      <td>1965</td>\n",
              "      <td>0</td>\n",
              "      <td>98136</td>\n",
              "      <td>47.5208</td>\n",
              "      <td>-122.393</td>\n",
              "      <td>1360</td>\n",
              "      <td>5000</td>\n",
              "    </tr>\n",
              "    <tr>\n",
              "      <th>4</th>\n",
              "      <td>1954400510</td>\n",
              "      <td>510000.0</td>\n",
              "      <td>3</td>\n",
              "      <td>2.00</td>\n",
              "      <td>1680</td>\n",
              "      <td>8080</td>\n",
              "      <td>1.0</td>\n",
              "      <td>0</td>\n",
              "      <td>0</td>\n",
              "      <td>3</td>\n",
              "      <td>8</td>\n",
              "      <td>1680</td>\n",
              "      <td>0</td>\n",
              "      <td>1987</td>\n",
              "      <td>0</td>\n",
              "      <td>98074</td>\n",
              "      <td>47.6168</td>\n",
              "      <td>-122.045</td>\n",
              "      <td>1800</td>\n",
              "      <td>7503</td>\n",
              "    </tr>\n",
              "  </tbody>\n",
              "</table>\n",
              "</div>"
            ],
            "text/plain": [
              "           id     price  bedrooms  ...     long  sqft_living15  sqft_lot15\n",
              "0  7129300520  221900.0         3  ... -122.257           1340        5650\n",
              "1  6414100192  538000.0         3  ... -122.319           1690        7639\n",
              "2  5631500400  180000.0         2  ... -122.233           2720        8062\n",
              "3  2487200875  604000.0         4  ... -122.393           1360        5000\n",
              "4  1954400510  510000.0         3  ... -122.045           1800        7503\n",
              "\n",
              "[5 rows x 20 columns]"
            ]
          },
          "metadata": {
            "tags": []
          },
          "execution_count": 4
        }
      ]
    },
    {
      "cell_type": "code",
      "metadata": {
        "id": "e9AzGcZFrIIr",
        "colab": {
          "base_uri": "https://localhost:8080/",
          "height": 218
        },
        "outputId": "a29bf69e-d37c-499e-84d7-8fea689e3d6e"
      },
      "source": [
        "# Previewing the bottom of our dataset \n",
        "housing.tail()"
      ],
      "execution_count": 5,
      "outputs": [
        {
          "output_type": "execute_result",
          "data": {
            "text/html": [
              "<div>\n",
              "<style scoped>\n",
              "    .dataframe tbody tr th:only-of-type {\n",
              "        vertical-align: middle;\n",
              "    }\n",
              "\n",
              "    .dataframe tbody tr th {\n",
              "        vertical-align: top;\n",
              "    }\n",
              "\n",
              "    .dataframe thead th {\n",
              "        text-align: right;\n",
              "    }\n",
              "</style>\n",
              "<table border=\"1\" class=\"dataframe\">\n",
              "  <thead>\n",
              "    <tr style=\"text-align: right;\">\n",
              "      <th></th>\n",
              "      <th>id</th>\n",
              "      <th>price</th>\n",
              "      <th>bedrooms</th>\n",
              "      <th>bathrooms</th>\n",
              "      <th>sqft_living</th>\n",
              "      <th>sqft_lot</th>\n",
              "      <th>floors</th>\n",
              "      <th>waterfront</th>\n",
              "      <th>view</th>\n",
              "      <th>condition</th>\n",
              "      <th>grade</th>\n",
              "      <th>sqft_above</th>\n",
              "      <th>sqft_basement</th>\n",
              "      <th>yr_built</th>\n",
              "      <th>yr_renovated</th>\n",
              "      <th>zipcode</th>\n",
              "      <th>lat</th>\n",
              "      <th>long</th>\n",
              "      <th>sqft_living15</th>\n",
              "      <th>sqft_lot15</th>\n",
              "    </tr>\n",
              "  </thead>\n",
              "  <tbody>\n",
              "    <tr>\n",
              "      <th>21608</th>\n",
              "      <td>263000018</td>\n",
              "      <td>360000.0</td>\n",
              "      <td>3</td>\n",
              "      <td>2.50</td>\n",
              "      <td>1530</td>\n",
              "      <td>1131</td>\n",
              "      <td>3.0</td>\n",
              "      <td>0</td>\n",
              "      <td>0</td>\n",
              "      <td>3</td>\n",
              "      <td>8</td>\n",
              "      <td>1530</td>\n",
              "      <td>0</td>\n",
              "      <td>2009</td>\n",
              "      <td>0</td>\n",
              "      <td>98103</td>\n",
              "      <td>47.6993</td>\n",
              "      <td>-122.346</td>\n",
              "      <td>1530</td>\n",
              "      <td>1509</td>\n",
              "    </tr>\n",
              "    <tr>\n",
              "      <th>21609</th>\n",
              "      <td>6600060120</td>\n",
              "      <td>400000.0</td>\n",
              "      <td>4</td>\n",
              "      <td>2.50</td>\n",
              "      <td>2310</td>\n",
              "      <td>5813</td>\n",
              "      <td>2.0</td>\n",
              "      <td>0</td>\n",
              "      <td>0</td>\n",
              "      <td>3</td>\n",
              "      <td>8</td>\n",
              "      <td>2310</td>\n",
              "      <td>0</td>\n",
              "      <td>2014</td>\n",
              "      <td>0</td>\n",
              "      <td>98146</td>\n",
              "      <td>47.5107</td>\n",
              "      <td>-122.362</td>\n",
              "      <td>1830</td>\n",
              "      <td>7200</td>\n",
              "    </tr>\n",
              "    <tr>\n",
              "      <th>21610</th>\n",
              "      <td>1523300141</td>\n",
              "      <td>402101.0</td>\n",
              "      <td>2</td>\n",
              "      <td>0.75</td>\n",
              "      <td>1020</td>\n",
              "      <td>1350</td>\n",
              "      <td>2.0</td>\n",
              "      <td>0</td>\n",
              "      <td>0</td>\n",
              "      <td>3</td>\n",
              "      <td>7</td>\n",
              "      <td>1020</td>\n",
              "      <td>0</td>\n",
              "      <td>2009</td>\n",
              "      <td>0</td>\n",
              "      <td>98144</td>\n",
              "      <td>47.5944</td>\n",
              "      <td>-122.299</td>\n",
              "      <td>1020</td>\n",
              "      <td>2007</td>\n",
              "    </tr>\n",
              "    <tr>\n",
              "      <th>21611</th>\n",
              "      <td>291310100</td>\n",
              "      <td>400000.0</td>\n",
              "      <td>3</td>\n",
              "      <td>2.50</td>\n",
              "      <td>1600</td>\n",
              "      <td>2388</td>\n",
              "      <td>2.0</td>\n",
              "      <td>0</td>\n",
              "      <td>0</td>\n",
              "      <td>3</td>\n",
              "      <td>8</td>\n",
              "      <td>1600</td>\n",
              "      <td>0</td>\n",
              "      <td>2004</td>\n",
              "      <td>0</td>\n",
              "      <td>98027</td>\n",
              "      <td>47.5345</td>\n",
              "      <td>-122.069</td>\n",
              "      <td>1410</td>\n",
              "      <td>1287</td>\n",
              "    </tr>\n",
              "    <tr>\n",
              "      <th>21612</th>\n",
              "      <td>1523300157</td>\n",
              "      <td>325000.0</td>\n",
              "      <td>2</td>\n",
              "      <td>0.75</td>\n",
              "      <td>1020</td>\n",
              "      <td>1076</td>\n",
              "      <td>2.0</td>\n",
              "      <td>0</td>\n",
              "      <td>0</td>\n",
              "      <td>3</td>\n",
              "      <td>7</td>\n",
              "      <td>1020</td>\n",
              "      <td>0</td>\n",
              "      <td>2008</td>\n",
              "      <td>0</td>\n",
              "      <td>98144</td>\n",
              "      <td>47.5941</td>\n",
              "      <td>-122.299</td>\n",
              "      <td>1020</td>\n",
              "      <td>1357</td>\n",
              "    </tr>\n",
              "  </tbody>\n",
              "</table>\n",
              "</div>"
            ],
            "text/plain": [
              "               id     price  bedrooms  ...     long  sqft_living15  sqft_lot15\n",
              "21608   263000018  360000.0         3  ... -122.346           1530        1509\n",
              "21609  6600060120  400000.0         4  ... -122.362           1830        7200\n",
              "21610  1523300141  402101.0         2  ... -122.299           1020        2007\n",
              "21611   291310100  400000.0         3  ... -122.069           1410        1287\n",
              "21612  1523300157  325000.0         2  ... -122.299           1020        1357\n",
              "\n",
              "[5 rows x 20 columns]"
            ]
          },
          "metadata": {
            "tags": []
          },
          "execution_count": 5
        }
      ]
    },
    {
      "cell_type": "code",
      "metadata": {
        "id": "n8-dW4sQWzbc",
        "colab": {
          "base_uri": "https://localhost:8080/"
        },
        "outputId": "90551e58-dcac-427a-fff7-b32bf0fe701d"
      },
      "source": [
        "# Checking whether each column has an appropriate datatype\n",
        "housing.dtypes"
      ],
      "execution_count": 6,
      "outputs": [
        {
          "output_type": "execute_result",
          "data": {
            "text/plain": [
              "id                 int64\n",
              "price            float64\n",
              "bedrooms           int64\n",
              "bathrooms        float64\n",
              "sqft_living        int64\n",
              "sqft_lot           int64\n",
              "floors           float64\n",
              "waterfront         int64\n",
              "view               int64\n",
              "condition          int64\n",
              "grade              int64\n",
              "sqft_above         int64\n",
              "sqft_basement      int64\n",
              "yr_built           int64\n",
              "yr_renovated       int64\n",
              "zipcode            int64\n",
              "lat              float64\n",
              "long             float64\n",
              "sqft_living15      int64\n",
              "sqft_lot15         int64\n",
              "dtype: object"
            ]
          },
          "metadata": {
            "tags": []
          },
          "execution_count": 6
        }
      ]
    },
    {
      "cell_type": "markdown",
      "metadata": {
        "id": "2ZRbWwLgtRWI"
      },
      "source": [
        "All columns have the right datatype"
      ]
    },
    {
      "cell_type": "markdown",
      "metadata": {
        "id": "FlBMxEDBUc9B"
      },
      "source": [
        "### 4. Tidying the Dataset"
      ]
    },
    {
      "cell_type": "code",
      "metadata": {
        "colab": {
          "base_uri": "https://localhost:8080/"
        },
        "id": "xqLpH5gnMCVS",
        "outputId": "c31b4e71-2bf5-43cc-d1c4-c6c50a56b363"
      },
      "source": [
        "#checking columns names \n",
        "housing.columns\n",
        "#the columns are correctly labelled"
      ],
      "execution_count": 7,
      "outputs": [
        {
          "output_type": "execute_result",
          "data": {
            "text/plain": [
              "Index(['id', 'price', 'bedrooms', 'bathrooms', 'sqft_living', 'sqft_lot',\n",
              "       'floors', 'waterfront', 'view', 'condition', 'grade', 'sqft_above',\n",
              "       'sqft_basement', 'yr_built', 'yr_renovated', 'zipcode', 'lat', 'long',\n",
              "       'sqft_living15', 'sqft_lot15'],\n",
              "      dtype='object')"
            ]
          },
          "metadata": {
            "tags": []
          },
          "execution_count": 7
        }
      ]
    },
    {
      "cell_type": "code",
      "metadata": {
        "id": "5o_bQcT5W3Wz",
        "colab": {
          "base_uri": "https://localhost:8080/",
          "height": 715
        },
        "outputId": "06795dd0-1b86-4b53-a010-bd9ec569dfff"
      },
      "source": [
        "#checking for outliers in price, bedrooms, bathrooms,sqft living, sqft lot columns\n",
        "fig = plt.figure(figsize= (16,16),edgecolor='red')\n",
        "fig,axes =plt.subplots(2,7, figsize=(15,10))\n",
        "fig.suptitle('Boxplots',weight='bold',fontsize=18)\n",
        "sns.boxplot(data=housing,x=housing['price'],ax=axes[0,0],showmeans=True)\n",
        "sns.boxplot(data=housing,x=housing['bedrooms'],ax=axes[0,1],showmeans=True)\n",
        "sns.boxplot(data=housing,x=housing['bathrooms'],ax=axes[0,2],showmeans=True)\n",
        "sns.boxplot(data=housing,x=housing['sqft_living'],ax=axes[0,3],showmeans=True)\n",
        "sns.boxplot(data=housing,x=housing['sqft_lot'],ax=axes[0,4],showmeans=True)\n",
        "sns.boxplot(data=housing,x=housing['floors'],ax=axes[0,5],showmeans=True)\n",
        "sns.boxplot(data=housing,x=housing['waterfront'],ax=axes[0,6],showmeans=True)\n",
        "sns.boxplot(data=housing,x=housing['sqft_above'],ax=axes[1,0],showmeans=True)\n",
        "sns.boxplot(data=housing,x=housing['sqft_basement'],ax=axes[1,1],showmeans=True)\n",
        "sns.boxplot(data=housing,x=housing['yr_built'],ax=axes[1,2],showmeans=True)\n",
        "sns.boxplot(data=housing,x=housing['yr_renovated'],ax=axes[1,3],showmeans=True)\n",
        "sns.boxplot(data=housing,x=housing['sqft_living15'],ax=axes[1,4],showmeans=True)\n",
        "sns.boxplot(data=housing,x=housing['sqft_lot15'],ax=axes[1,5],showmeans=True)\n",
        "sns.boxplot(data=housing,x=housing['grade'],ax=axes[1,6],showmeans=True)"
      ],
      "execution_count": 8,
      "outputs": [
        {
          "output_type": "execute_result",
          "data": {
            "text/plain": [
              "<matplotlib.axes._subplots.AxesSubplot at 0x7fe6dc534410>"
            ]
          },
          "metadata": {
            "tags": []
          },
          "execution_count": 8
        },
        {
          "output_type": "display_data",
          "data": {
            "text/plain": [
              "<Figure size 1152x1152 with 0 Axes>"
            ]
          },
          "metadata": {
            "tags": []
          }
        },
        {
          "output_type": "display_data",
          "data": {
            "image/png": "[encoded data removed]",
            "text/plain": [
              "<Figure size 1080x720 with 14 Axes>"
            ]
          },
          "metadata": {
            "tags": [],
            "needs_background": "light"
          }
        }
      ]
    },
    {
      "cell_type": "markdown",
      "metadata": {
        "id": "9O5zUcVAOghP"
      },
      "source": [
        "Outliers within this dataset will be essential for modelling"
      ]
    },
    {
      "cell_type": "code",
      "metadata": {
        "colab": {
          "base_uri": "https://localhost:8080/"
        },
        "id": "iQJdRFH2Rfoq",
        "outputId": "6a96253c-d206-4236-9650-bbd55e9aaaca"
      },
      "source": [
        "#checking how many outliers are going to be retained within the dataset using the 95% upper bound and lower bound\n",
        "Q1 = housing.quantile(0.05)\n",
        "Q3 = housing.quantile(0.95)\n",
        "IQR = Q3 - Q1\n",
        "housing_out = housing[~((housing < (Q1 - 1.5 * IQR)) | (housing > (Q3 + 1.5 * IQR))).any(axis=1)]\n",
        "print(housing_out.shape)\n",
        "print(housing.shape)"
      ],
      "execution_count": 9,
      "outputs": [
        {
          "output_type": "stream",
          "text": [
            "(19998, 20)\n",
            "(21613, 20)\n"
          ],
          "name": "stdout"
        }
      ]
    },
    {
      "cell_type": "code",
      "metadata": {
        "id": "PWlukLKUvFQN",
        "colab": {
          "base_uri": "https://localhost:8080/"
        },
        "outputId": "811fbbe1-3bd2-4c6f-de1a-940676ec5e49"
      },
      "source": [
        "#identiying the unique entried within categorical columns\n",
        "unique_entries =housing[['grade','view','waterfront','yr_renovated','yr_built']] \n",
        "uniques = {col: housing[col].unique() for col in unique_entries}\n",
        "uniques"
      ],
      "execution_count": 10,
      "outputs": [
        {
          "output_type": "execute_result",
          "data": {
            "text/plain": [
              "{'grade': array([ 7,  6,  8, 11,  9,  5, 10, 12,  4,  3, 13,  1]),\n",
              " 'view': array([0, 3, 4, 2, 1]),\n",
              " 'waterfront': array([0, 1]),\n",
              " 'yr_built': array([1955, 1951, 1933, 1965, 1987, 2001, 1995, 1963, 1960, 2003, 1942,\n",
              "        1927, 1977, 1900, 1979, 1994, 1916, 1921, 1969, 1947, 1968, 1985,\n",
              "        1941, 1915, 1909, 1948, 2005, 1929, 1981, 1930, 1904, 1996, 2000,\n",
              "        1984, 2014, 1922, 1959, 1966, 1953, 1950, 2008, 1991, 1954, 1973,\n",
              "        1925, 1989, 1972, 1986, 1956, 2002, 1992, 1964, 1952, 1961, 2006,\n",
              "        1988, 1962, 1939, 1946, 1967, 1975, 1980, 1910, 1983, 1978, 1905,\n",
              "        1971, 2010, 1945, 1924, 1990, 1914, 1926, 2004, 1923, 2007, 1976,\n",
              "        1949, 1999, 1901, 1993, 1920, 1997, 1943, 1957, 1940, 1918, 1928,\n",
              "        1974, 1911, 1936, 1937, 1982, 1908, 1931, 1998, 1913, 2013, 1907,\n",
              "        1958, 2012, 1912, 2011, 1917, 1932, 1944, 1902, 2009, 1903, 1970,\n",
              "        2015, 1934, 1938, 1919, 1906, 1935]),\n",
              " 'yr_renovated': array([   0, 1991, 2002, 2010, 1999, 1992, 2013, 1994, 1978, 2005, 2008,\n",
              "        2003, 1984, 1954, 2014, 2011, 1974, 1983, 1945, 1990, 1988, 1957,\n",
              "        1977, 1981, 1995, 2000, 1998, 1970, 1989, 2004, 1986, 2009, 2007,\n",
              "        1987, 1973, 2006, 1985, 2001, 1980, 1971, 1979, 1997, 1950, 1969,\n",
              "        1948, 2015, 1968, 2012, 1963, 1951, 1993, 1962, 1996, 1972, 1953,\n",
              "        1955, 1982, 1956, 1940, 1976, 1946, 1975, 1958, 1964, 1959, 1960,\n",
              "        1967, 1965, 1934, 1944])}"
            ]
          },
          "metadata": {
            "tags": []
          },
          "execution_count": 10
        }
      ]
    },
    {
      "cell_type": "markdown",
      "metadata": {
        "id": "Jd8W3GL6tYu_"
      },
      "source": [
        "No anomalies were detected within the categorical variables"
      ]
    },
    {
      "cell_type": "code",
      "metadata": {
        "id": "PvCYb6dgW4yh",
        "colab": {
          "base_uri": "https://localhost:8080/"
        },
        "outputId": "14615bbd-0223-47a8-ca12-37b87095e4ef"
      },
      "source": [
        "#checking for missing data\n",
        "housing.isnull().sum().sum()"
      ],
      "execution_count": 11,
      "outputs": [
        {
          "output_type": "execute_result",
          "data": {
            "text/plain": [
              "0"
            ]
          },
          "metadata": {
            "tags": []
          },
          "execution_count": 11
        }
      ]
    },
    {
      "cell_type": "markdown",
      "metadata": {
        "id": "nxkOfK9Ite4L"
      },
      "source": [
        "there are no null values"
      ]
    },
    {
      "cell_type": "code",
      "metadata": {
        "id": "anRQcBIncKK-",
        "colab": {
          "base_uri": "https://localhost:8080/",
          "height": 128
        },
        "outputId": "6fb8eff8-bb1f-4699-e674-66665162096c"
      },
      "source": [
        "#dropping the id column since it will not be used in our analysis\n",
        "housing_out= housing.drop(columns =['id'],axis=1)\n",
        "housing_out.head(2)"
      ],
      "execution_count": 12,
      "outputs": [
        {
          "output_type": "execute_result",
          "data": {
            "text/html": [
              "<div>\n",
              "<style scoped>\n",
              "    .dataframe tbody tr th:only-of-type {\n",
              "        vertical-align: middle;\n",
              "    }\n",
              "\n",
              "    .dataframe tbody tr th {\n",
              "        vertical-align: top;\n",
              "    }\n",
              "\n",
              "    .dataframe thead th {\n",
              "        text-align: right;\n",
              "    }\n",
              "</style>\n",
              "<table border=\"1\" class=\"dataframe\">\n",
              "  <thead>\n",
              "    <tr style=\"text-align: right;\">\n",
              "      <th></th>\n",
              "      <th>price</th>\n",
              "      <th>bedrooms</th>\n",
              "      <th>bathrooms</th>\n",
              "      <th>sqft_living</th>\n",
              "      <th>sqft_lot</th>\n",
              "      <th>floors</th>\n",
              "      <th>waterfront</th>\n",
              "      <th>view</th>\n",
              "      <th>condition</th>\n",
              "      <th>grade</th>\n",
              "      <th>sqft_above</th>\n",
              "      <th>sqft_basement</th>\n",
              "      <th>yr_built</th>\n",
              "      <th>yr_renovated</th>\n",
              "      <th>zipcode</th>\n",
              "      <th>lat</th>\n",
              "      <th>long</th>\n",
              "      <th>sqft_living15</th>\n",
              "      <th>sqft_lot15</th>\n",
              "    </tr>\n",
              "  </thead>\n",
              "  <tbody>\n",
              "    <tr>\n",
              "      <th>0</th>\n",
              "      <td>221900.0</td>\n",
              "      <td>3</td>\n",
              "      <td>1.00</td>\n",
              "      <td>1180</td>\n",
              "      <td>5650</td>\n",
              "      <td>1.0</td>\n",
              "      <td>0</td>\n",
              "      <td>0</td>\n",
              "      <td>3</td>\n",
              "      <td>7</td>\n",
              "      <td>1180</td>\n",
              "      <td>0</td>\n",
              "      <td>1955</td>\n",
              "      <td>0</td>\n",
              "      <td>98178</td>\n",
              "      <td>47.5112</td>\n",
              "      <td>-122.257</td>\n",
              "      <td>1340</td>\n",
              "      <td>5650</td>\n",
              "    </tr>\n",
              "    <tr>\n",
              "      <th>1</th>\n",
              "      <td>538000.0</td>\n",
              "      <td>3</td>\n",
              "      <td>2.25</td>\n",
              "      <td>2570</td>\n",
              "      <td>7242</td>\n",
              "      <td>2.0</td>\n",
              "      <td>0</td>\n",
              "      <td>0</td>\n",
              "      <td>3</td>\n",
              "      <td>7</td>\n",
              "      <td>2170</td>\n",
              "      <td>400</td>\n",
              "      <td>1951</td>\n",
              "      <td>1991</td>\n",
              "      <td>98125</td>\n",
              "      <td>47.7210</td>\n",
              "      <td>-122.319</td>\n",
              "      <td>1690</td>\n",
              "      <td>7639</td>\n",
              "    </tr>\n",
              "  </tbody>\n",
              "</table>\n",
              "</div>"
            ],
            "text/plain": [
              "      price  bedrooms  bathrooms  ...     long  sqft_living15  sqft_lot15\n",
              "0  221900.0         3       1.00  ... -122.257           1340        5650\n",
              "1  538000.0         3       2.25  ... -122.319           1690        7639\n",
              "\n",
              "[2 rows x 19 columns]"
            ]
          },
          "metadata": {
            "tags": []
          },
          "execution_count": 12
        }
      ]
    },
    {
      "cell_type": "code",
      "metadata": {
        "colab": {
          "base_uri": "https://localhost:8080/"
        },
        "id": "TP4Ld-T_TefV",
        "outputId": "ea89fc7e-56f8-4832-a264-f72985cc73a7"
      },
      "source": [
        "#checking for duplicates\n",
        "housing_out.duplicated().sum()\n",
        "#there are 5 duplicates within the dataset\n",
        "house = housing_out.drop_duplicates()\n",
        "house.duplicated().sum()"
      ],
      "execution_count": 13,
      "outputs": [
        {
          "output_type": "execute_result",
          "data": {
            "text/plain": [
              "0"
            ]
          },
          "metadata": {
            "tags": []
          },
          "execution_count": 13
        }
      ]
    },
    {
      "cell_type": "markdown",
      "metadata": {
        "id": "QZUqhMnRti9d"
      },
      "source": [
        "There are 5 duplicates within the dataset which have been dropped."
      ]
    },
    {
      "cell_type": "code",
      "metadata": {
        "id": "NCz3tK7Mf-S1"
      },
      "source": [
        "#exporting the clean dataset\n",
        "house.to_csv('Cleaned Housing dataset.csv')"
      ],
      "execution_count": 14,
      "outputs": []
    },
    {
      "cell_type": "markdown",
      "metadata": {
        "id": "BGLe3jF6tqEW"
      },
      "source": [
        "Exporting the cleaned dataset and with the label ---*Cleaned Housing Dataset*"
      ]
    },
    {
      "cell_type": "markdown",
      "metadata": {
        "id": "rF2ABPsHUtbZ"
      },
      "source": [
        "## 5. Exploratory  Data Analysis"
      ]
    },
    {
      "cell_type": "markdown",
      "metadata": {
        "id": "SoA_cESzUqi4"
      },
      "source": [
        "### Univariate Analysis"
      ]
    },
    {
      "cell_type": "markdown",
      "metadata": {
        "id": "JtICoX7pWMXJ"
      },
      "source": [
        "> #### Histograms"
      ]
    },
    {
      "cell_type": "code",
      "metadata": {
        "id": "5nnRToniXGDK",
        "colab": {
          "base_uri": "https://localhost:8080/",
          "height": 296
        },
        "outputId": "31e243fe-ec14-4e9e-bc4d-f8a224a3f471"
      },
      "source": [
        "# Ploting the univariate summaries and recording our observations\n",
        "house['price'].plot.hist(bins=30, rwidth=0.9,\n",
        "                   color='blue')\n",
        "plt.title('Housing price',fontsize=15,color='blue',weight='bold')\n",
        "plt.show()"
      ],
      "execution_count": 15,
      "outputs": [
        {
          "output_type": "display_data",
          "data": {
            "image/png": "[encoded data removed]",
            "text/plain": [
              "<Figure size 432x288 with 1 Axes>"
            ]
          },
          "metadata": {
            "tags": [],
            "needs_background": "light"
          }
        }
      ]
    },
    {
      "cell_type": "markdown",
      "metadata": {
        "id": "j9vr42Xet1qs"
      },
      "source": [
        "the highest housing price is over 8,000"
      ]
    },
    {
      "cell_type": "code",
      "metadata": {
        "colab": {
          "base_uri": "https://localhost:8080/",
          "height": 296
        },
        "id": "Ef2ybYWSd9FZ",
        "outputId": "f4809404-e730-4b67-b1be-de1428696a40"
      },
      "source": [
        "house['sqft_lot'].plot.hist(bins=15, rwidth=0.9,\n",
        "                   color='blue')\n",
        "plt.title('Lot size of the house',fontsize=15,color='blue',weight='bold')\n",
        "plt.show()"
      ],
      "execution_count": 16,
      "outputs": [
        {
          "output_type": "display_data",
          "data": {
            "image/png": "[encoded data removed]",
            "text/plain": [
              "<Figure size 432x288 with 1 Axes>"
            ]
          },
          "metadata": {
            "tags": [],
            "needs_background": "light"
          }
        }
      ]
    },
    {
      "cell_type": "markdown",
      "metadata": {
        "id": "NxCTQMrJt4xi"
      },
      "source": [
        "lot space with the highest frequency  is over 20,000 sqft"
      ]
    },
    {
      "cell_type": "code",
      "metadata": {
        "colab": {
          "base_uri": "https://localhost:8080/",
          "height": 283
        },
        "id": "jI23cIWNdhWW",
        "outputId": "52ec19d2-58d0-4f9f-dfb7-cd438ee7cca1"
      },
      "source": [
        "\n",
        "house['sqft_above'].plot.hist(bins=30, rwidth=0.9,\n",
        "                   color='blue')\n",
        "plt.title('Size of space between basement and living area',fontsize=15,color='blue',weight='bold')\n",
        "plt.show()"
      ],
      "execution_count": 17,
      "outputs": [
        {
          "output_type": "display_data",
          "data": {
            "image/png": "[encoded data removed]",
            "text/plain": [
              "<Figure size 432x288 with 1 Axes>"
            ]
          },
          "metadata": {
            "tags": [],
            "needs_background": "light"
          }
        }
      ]
    },
    {
      "cell_type": "markdown",
      "metadata": {
        "id": "ZSs6ggpst7h2"
      },
      "source": [
        "the space above the housing with the highest frequency is over 4000"
      ]
    },
    {
      "cell_type": "code",
      "metadata": {
        "colab": {
          "base_uri": "https://localhost:8080/",
          "height": 283
        },
        "id": "aqDtAR1Bfdcu",
        "outputId": "ad277473-3602-482a-a48e-85a096370416"
      },
      "source": [
        "house['sqft_basement'].plot.hist(bins=30, rwidth=0.9,\n",
        "                   color='blue')\n",
        "plt.title('Square feet of the basement',fontsize=15,color='blue',weight='bold')\n",
        "plt.show()"
      ],
      "execution_count": 18,
      "outputs": [
        {
          "output_type": "display_data",
          "data": {
            "image/png": "[encoded data removed]",
            "text/plain": [
              "<Figure size 432x288 with 1 Axes>"
            ]
          },
          "metadata": {
            "tags": [],
            "needs_background": "light"
          }
        }
      ]
    },
    {
      "cell_type": "markdown",
      "metadata": {
        "id": "B0Tv_TRUt-I7"
      },
      "source": [
        "the basement space with the highest frequency is over 12,000"
      ]
    },
    {
      "cell_type": "code",
      "metadata": {
        "colab": {
          "base_uri": "https://localhost:8080/",
          "height": 283
        },
        "id": "-XRQlBlugZbV",
        "outputId": "a0408abf-78d0-45c0-9bbe-a16b9e0ee038"
      },
      "source": [
        "house['sqft_living15'].plot.hist(bins=30, rwidth=0.9,\n",
        "                   color='blue')\n",
        "plt.title('Average size of the houses based on 15 closest housing',fontsize=15,color='blue',weight='bold')\n",
        "plt.show()"
      ],
      "execution_count": 19,
      "outputs": [
        {
          "output_type": "display_data",
          "data": {
            "image/png": "[encoded data removed]",
            "text/plain": [
              "<Figure size 432x288 with 1 Axes>"
            ]
          },
          "metadata": {
            "tags": [],
            "needs_background": "light"
          }
        }
      ]
    },
    {
      "cell_type": "markdown",
      "metadata": {
        "id": "RqNnMnTmuBND"
      },
      "source": [
        "the living space with the highest frequency is over 3000"
      ]
    },
    {
      "cell_type": "markdown",
      "metadata": {
        "id": "yaWzxYmmaBNI"
      },
      "source": [
        "> #### Barplots"
      ]
    },
    {
      "cell_type": "code",
      "metadata": {
        "colab": {
          "base_uri": "https://localhost:8080/",
          "height": 338
        },
        "id": "pVGAWV-UaA6R",
        "outputId": "ba09aac6-f9e3-4d58-d3f1-babb00eccdf2"
      },
      "source": [
        "#bar graph of no of bedrooms\n",
        "house['bedrooms'].value_counts().plot(kind='bar', figsize=(5,5),title='No of bedrooms',color='orange')\n",
        "plt.show()"
      ],
      "execution_count": 20,
      "outputs": [
        {
          "output_type": "display_data",
          "data": {
            "image/png": "[encoded data removed]",
            "text/plain": [
              "<Figure size 360x360 with 1 Axes>"
            ]
          },
          "metadata": {
            "tags": [],
            "needs_background": "light"
          }
        }
      ]
    },
    {
      "cell_type": "markdown",
      "metadata": {
        "id": "DX0iVag1uEJV"
      },
      "source": [
        " The most popular no of bedrooms is 3"
      ]
    },
    {
      "cell_type": "code",
      "metadata": {
        "colab": {
          "base_uri": "https://localhost:8080/",
          "height": 342
        },
        "id": "7lLfjcs2mvjM",
        "outputId": "6fa28de4-1f98-4686-8fd5-363ac3de84ad"
      },
      "source": [
        "#bar graph of no of bedrooms\n",
        "house['floors'].value_counts().plot(kind='bar', figsize=(5,5),title='No of floors',color='orange')\n",
        "plt.show()\n"
      ],
      "execution_count": 21,
      "outputs": [
        {
          "output_type": "display_data",
          "data": {
            "image/png": "[encoded data removed]",
            "text/plain": [
              "<Figure size 360x360 with 1 Axes>"
            ]
          },
          "metadata": {
            "tags": [],
            "needs_background": "light"
          }
        }
      ]
    },
    {
      "cell_type": "markdown",
      "metadata": {
        "id": "98JimZ-ZuG8V"
      },
      "source": [
        "The  floors with the highest record is 1.0"
      ]
    },
    {
      "cell_type": "code",
      "metadata": {
        "colab": {
          "base_uri": "https://localhost:8080/",
          "height": 332
        },
        "id": "2XB7F9CNnDh7",
        "outputId": "e46ac714-1644-4232-8022-7e5d00bc9218"
      },
      "source": [
        "#bar graph of no of bedrooms\n",
        "house['condition'].value_counts().plot(kind='bar', figsize=(5,5),title='Condition of the houses',color='orange')\n",
        "plt.show()\n"
      ],
      "execution_count": 22,
      "outputs": [
        {
          "output_type": "display_data",
          "data": {
            "image/png": "[encoded data removed]",
            "text/plain": [
              "<Figure size 360x360 with 1 Axes>"
            ]
          },
          "metadata": {
            "tags": [],
            "needs_background": "light"
          }
        }
      ]
    },
    {
      "cell_type": "markdown",
      "metadata": {
        "id": "ICMTOgcJuJ-T"
      },
      "source": [
        "The  condition with the highest record is 3"
      ]
    },
    {
      "cell_type": "code",
      "metadata": {
        "colab": {
          "base_uri": "https://localhost:8080/",
          "height": 332
        },
        "id": "DAm1C4RenON4",
        "outputId": "a46bc2ba-a19e-44e5-d36c-f1dfbb99d201"
      },
      "source": [
        "#bar graph of no of bedrooms\n",
        "house['view'].value_counts().plot(kind='bar', figsize=(5,5),title='Views',color='orange')\n",
        "plt.show()"
      ],
      "execution_count": 23,
      "outputs": [
        {
          "output_type": "display_data",
          "data": {
            "image/png": "[encoded data removed]",
            "text/plain": [
              "<Figure size 360x360 with 1 Axes>"
            ]
          },
          "metadata": {
            "tags": [],
            "needs_background": "light"
          }
        }
      ]
    },
    {
      "cell_type": "markdown",
      "metadata": {
        "id": "9c7Xy7qOuMjF"
      },
      "source": [
        "The  view with the highest record is 0"
      ]
    },
    {
      "cell_type": "code",
      "metadata": {
        "colab": {
          "base_uri": "https://localhost:8080/",
          "height": 332
        },
        "id": "sHHQ_1x0ni9n",
        "outputId": "1629f440-a915-4e9b-b110-14d7465b3c6e"
      },
      "source": [
        "#bar graph of no of bedrooms\n",
        "house['waterfront'].value_counts().plot(kind='bar', figsize=(5,5),title='Waterfront',color='orange')\n",
        "plt.show()"
      ],
      "execution_count": 24,
      "outputs": [
        {
          "output_type": "display_data",
          "data": {
            "image/png": "[encoded data removed]",
            "text/plain": [
              "<Figure size 360x360 with 1 Axes>"
            ]
          },
          "metadata": {
            "tags": [],
            "needs_background": "light"
          }
        }
      ]
    },
    {
      "cell_type": "markdown",
      "metadata": {
        "id": "rNFEHOXFuPmj"
      },
      "source": [
        "The  waterfront with the highest record is in category 0"
      ]
    },
    {
      "cell_type": "code",
      "metadata": {
        "colab": {
          "base_uri": "https://localhost:8080/",
          "height": 338
        },
        "id": "oy2nM_6ZoHal",
        "outputId": "6bfe6166-4c90-4464-9663-4030050ef21a"
      },
      "source": [
        "#bar graph of no of bedrooms\n",
        "house['grade'].value_counts().plot(kind='bar', figsize=(5,5),title='Grade',color='orange')\n",
        "plt.show()"
      ],
      "execution_count": 25,
      "outputs": [
        {
          "output_type": "display_data",
          "data": {
            "image/png": "[encoded data removed]",
            "text/plain": [
              "<Figure size 360x360 with 1 Axes>"
            ]
          },
          "metadata": {
            "tags": [],
            "needs_background": "light"
          }
        }
      ]
    },
    {
      "cell_type": "markdown",
      "metadata": {
        "id": "Kk8LNsamuVh6"
      },
      "source": [
        "The  grade of the housing with the highest record is 7"
      ]
    },
    {
      "cell_type": "markdown",
      "metadata": {
        "id": "XbJmfsgkoxdm"
      },
      "source": [
        "> #### Frequency Tables"
      ]
    },
    {
      "cell_type": "code",
      "metadata": {
        "colab": {
          "base_uri": "https://localhost:8080/"
        },
        "id": "EKp1ezFBoN4_",
        "outputId": "31ae2d90-8f88-4ecd-fbd6-3964df298574"
      },
      "source": [
        "#bar graph of no of bedrooms\n",
        "house['yr_built'].value_counts().sort_values(ascending=False)"
      ],
      "execution_count": 26,
      "outputs": [
        {
          "output_type": "execute_result",
          "data": {
            "text/plain": [
              "2014    558\n",
              "2006    454\n",
              "2005    450\n",
              "2004    433\n",
              "2003    422\n",
              "       ... \n",
              "1933     30\n",
              "1901     29\n",
              "1902     27\n",
              "1935     24\n",
              "1934     21\n",
              "Name: yr_built, Length: 116, dtype: int64"
            ]
          },
          "metadata": {
            "tags": []
          },
          "execution_count": 26
        }
      ]
    },
    {
      "cell_type": "markdown",
      "metadata": {
        "id": "816wtXwduYuV"
      },
      "source": [
        "2014 had the highest records of houses build with 558 records"
      ]
    },
    {
      "cell_type": "code",
      "metadata": {
        "colab": {
          "base_uri": "https://localhost:8080/"
        },
        "id": "o_C0xZH1o14y",
        "outputId": "cbe046be-2098-4db6-e490-1d55ad19193f"
      },
      "source": [
        "house['yr_renovated'].value_counts().sort_values(ascending=False)"
      ],
      "execution_count": 27,
      "outputs": [
        {
          "output_type": "execute_result",
          "data": {
            "text/plain": [
              "0       20695\n",
              "2014       91\n",
              "2013       37\n",
              "2003       36\n",
              "2000       35\n",
              "        ...  \n",
              "1951        1\n",
              "1948        1\n",
              "1934        1\n",
              "1954        1\n",
              "1944        1\n",
              "Name: yr_renovated, Length: 70, dtype: int64"
            ]
          },
          "metadata": {
            "tags": []
          },
          "execution_count": 27
        }
      ]
    },
    {
      "cell_type": "markdown",
      "metadata": {
        "id": "bA-wXQbUubyr"
      },
      "source": [
        "2014 is also the year with the most renovation with 91,however the 20694 houses dont have records of which \n",
        "year renovation took place"
      ]
    },
    {
      "cell_type": "code",
      "metadata": {
        "colab": {
          "base_uri": "https://localhost:8080/",
          "height": 308
        },
        "id": "ZJ7NowEUqACf",
        "outputId": "6bebf3f7-356d-4104-a667-247483195e05"
      },
      "source": [
        "#measures of central tendency\n",
        "house.describe()"
      ],
      "execution_count": 28,
      "outputs": [
        {
          "output_type": "execute_result",
          "data": {
            "text/html": [
              "<div>\n",
              "<style scoped>\n",
              "    .dataframe tbody tr th:only-of-type {\n",
              "        vertical-align: middle;\n",
              "    }\n",
              "\n",
              "    .dataframe tbody tr th {\n",
              "        vertical-align: top;\n",
              "    }\n",
              "\n",
              "    .dataframe thead th {\n",
              "        text-align: right;\n",
              "    }\n",
              "</style>\n",
              "<table border=\"1\" class=\"dataframe\">\n",
              "  <thead>\n",
              "    <tr style=\"text-align: right;\">\n",
              "      <th></th>\n",
              "      <th>price</th>\n",
              "      <th>bedrooms</th>\n",
              "      <th>bathrooms</th>\n",
              "      <th>sqft_living</th>\n",
              "      <th>sqft_lot</th>\n",
              "      <th>floors</th>\n",
              "      <th>waterfront</th>\n",
              "      <th>view</th>\n",
              "      <th>condition</th>\n",
              "      <th>grade</th>\n",
              "      <th>sqft_above</th>\n",
              "      <th>sqft_basement</th>\n",
              "      <th>yr_built</th>\n",
              "      <th>yr_renovated</th>\n",
              "      <th>zipcode</th>\n",
              "      <th>lat</th>\n",
              "      <th>long</th>\n",
              "      <th>sqft_living15</th>\n",
              "      <th>sqft_lot15</th>\n",
              "    </tr>\n",
              "  </thead>\n",
              "  <tbody>\n",
              "    <tr>\n",
              "      <th>count</th>\n",
              "      <td>2.160800e+04</td>\n",
              "      <td>21608.000000</td>\n",
              "      <td>21608.000000</td>\n",
              "      <td>21608.000000</td>\n",
              "      <td>2.160800e+04</td>\n",
              "      <td>21608.000000</td>\n",
              "      <td>21608.000000</td>\n",
              "      <td>21608.000000</td>\n",
              "      <td>21608.000000</td>\n",
              "      <td>21608.000000</td>\n",
              "      <td>21608.000000</td>\n",
              "      <td>21608.000000</td>\n",
              "      <td>21608.000000</td>\n",
              "      <td>21608.000000</td>\n",
              "      <td>21608.000000</td>\n",
              "      <td>21608.000000</td>\n",
              "      <td>21608.000000</td>\n",
              "      <td>21608.000000</td>\n",
              "      <td>21608.000000</td>\n",
              "    </tr>\n",
              "    <tr>\n",
              "      <th>mean</th>\n",
              "      <td>5.401924e+05</td>\n",
              "      <td>3.370927</td>\n",
              "      <td>2.114738</td>\n",
              "      <td>2079.958950</td>\n",
              "      <td>1.510962e+04</td>\n",
              "      <td>1.494146</td>\n",
              "      <td>0.007544</td>\n",
              "      <td>0.234219</td>\n",
              "      <td>3.409478</td>\n",
              "      <td>7.656655</td>\n",
              "      <td>1788.414846</td>\n",
              "      <td>291.544104</td>\n",
              "      <td>1970.999907</td>\n",
              "      <td>84.330155</td>\n",
              "      <td>98077.942614</td>\n",
              "      <td>47.560050</td>\n",
              "      <td>-122.213894</td>\n",
              "      <td>1986.583164</td>\n",
              "      <td>12770.108340</td>\n",
              "    </tr>\n",
              "    <tr>\n",
              "      <th>std</th>\n",
              "      <td>3.673996e+05</td>\n",
              "      <td>0.930103</td>\n",
              "      <td>0.770238</td>\n",
              "      <td>918.505805</td>\n",
              "      <td>4.142491e+04</td>\n",
              "      <td>0.539910</td>\n",
              "      <td>0.086527</td>\n",
              "      <td>0.766169</td>\n",
              "      <td>0.650782</td>\n",
              "      <td>1.175484</td>\n",
              "      <td>828.141155</td>\n",
              "      <td>442.612560</td>\n",
              "      <td>29.371463</td>\n",
              "      <td>401.517026</td>\n",
              "      <td>53.506883</td>\n",
              "      <td>0.138578</td>\n",
              "      <td>0.140830</td>\n",
              "      <td>685.421474</td>\n",
              "      <td>27307.006892</td>\n",
              "    </tr>\n",
              "    <tr>\n",
              "      <th>min</th>\n",
              "      <td>7.500000e+04</td>\n",
              "      <td>0.000000</td>\n",
              "      <td>0.000000</td>\n",
              "      <td>290.000000</td>\n",
              "      <td>5.200000e+02</td>\n",
              "      <td>1.000000</td>\n",
              "      <td>0.000000</td>\n",
              "      <td>0.000000</td>\n",
              "      <td>1.000000</td>\n",
              "      <td>1.000000</td>\n",
              "      <td>290.000000</td>\n",
              "      <td>0.000000</td>\n",
              "      <td>1900.000000</td>\n",
              "      <td>0.000000</td>\n",
              "      <td>98001.000000</td>\n",
              "      <td>47.155900</td>\n",
              "      <td>-122.519000</td>\n",
              "      <td>399.000000</td>\n",
              "      <td>651.000000</td>\n",
              "    </tr>\n",
              "    <tr>\n",
              "      <th>25%</th>\n",
              "      <td>3.218375e+05</td>\n",
              "      <td>3.000000</td>\n",
              "      <td>1.750000</td>\n",
              "      <td>1429.250000</td>\n",
              "      <td>5.040000e+03</td>\n",
              "      <td>1.000000</td>\n",
              "      <td>0.000000</td>\n",
              "      <td>0.000000</td>\n",
              "      <td>3.000000</td>\n",
              "      <td>7.000000</td>\n",
              "      <td>1190.000000</td>\n",
              "      <td>0.000000</td>\n",
              "      <td>1951.000000</td>\n",
              "      <td>0.000000</td>\n",
              "      <td>98033.000000</td>\n",
              "      <td>47.470875</td>\n",
              "      <td>-122.328000</td>\n",
              "      <td>1490.000000</td>\n",
              "      <td>5100.000000</td>\n",
              "    </tr>\n",
              "    <tr>\n",
              "      <th>50%</th>\n",
              "      <td>4.500000e+05</td>\n",
              "      <td>3.000000</td>\n",
              "      <td>2.250000</td>\n",
              "      <td>1910.000000</td>\n",
              "      <td>7.620000e+03</td>\n",
              "      <td>1.500000</td>\n",
              "      <td>0.000000</td>\n",
              "      <td>0.000000</td>\n",
              "      <td>3.000000</td>\n",
              "      <td>7.000000</td>\n",
              "      <td>1560.000000</td>\n",
              "      <td>0.000000</td>\n",
              "      <td>1975.000000</td>\n",
              "      <td>0.000000</td>\n",
              "      <td>98065.000000</td>\n",
              "      <td>47.571800</td>\n",
              "      <td>-122.230500</td>\n",
              "      <td>1840.000000</td>\n",
              "      <td>7620.000000</td>\n",
              "    </tr>\n",
              "    <tr>\n",
              "      <th>75%</th>\n",
              "      <td>6.450000e+05</td>\n",
              "      <td>4.000000</td>\n",
              "      <td>2.500000</td>\n",
              "      <td>2550.000000</td>\n",
              "      <td>1.069050e+04</td>\n",
              "      <td>2.000000</td>\n",
              "      <td>0.000000</td>\n",
              "      <td>0.000000</td>\n",
              "      <td>4.000000</td>\n",
              "      <td>8.000000</td>\n",
              "      <td>2210.000000</td>\n",
              "      <td>560.000000</td>\n",
              "      <td>1997.000000</td>\n",
              "      <td>0.000000</td>\n",
              "      <td>98118.000000</td>\n",
              "      <td>47.678000</td>\n",
              "      <td>-122.125000</td>\n",
              "      <td>2360.000000</td>\n",
              "      <td>10083.250000</td>\n",
              "    </tr>\n",
              "    <tr>\n",
              "      <th>max</th>\n",
              "      <td>7.700000e+06</td>\n",
              "      <td>33.000000</td>\n",
              "      <td>8.000000</td>\n",
              "      <td>13540.000000</td>\n",
              "      <td>1.651359e+06</td>\n",
              "      <td>3.500000</td>\n",
              "      <td>1.000000</td>\n",
              "      <td>4.000000</td>\n",
              "      <td>5.000000</td>\n",
              "      <td>13.000000</td>\n",
              "      <td>9410.000000</td>\n",
              "      <td>4820.000000</td>\n",
              "      <td>2015.000000</td>\n",
              "      <td>2015.000000</td>\n",
              "      <td>98199.000000</td>\n",
              "      <td>47.777600</td>\n",
              "      <td>-121.315000</td>\n",
              "      <td>6210.000000</td>\n",
              "      <td>871200.000000</td>\n",
              "    </tr>\n",
              "  </tbody>\n",
              "</table>\n",
              "</div>"
            ],
            "text/plain": [
              "              price      bedrooms  ...  sqft_living15     sqft_lot15\n",
              "count  2.160800e+04  21608.000000  ...   21608.000000   21608.000000\n",
              "mean   5.401924e+05      3.370927  ...    1986.583164   12770.108340\n",
              "std    3.673996e+05      0.930103  ...     685.421474   27307.006892\n",
              "min    7.500000e+04      0.000000  ...     399.000000     651.000000\n",
              "25%    3.218375e+05      3.000000  ...    1490.000000    5100.000000\n",
              "50%    4.500000e+05      3.000000  ...    1840.000000    7620.000000\n",
              "75%    6.450000e+05      4.000000  ...    2360.000000   10083.250000\n",
              "max    7.700000e+06     33.000000  ...    6210.000000  871200.000000\n",
              "\n",
              "[8 rows x 19 columns]"
            ]
          },
          "metadata": {
            "tags": []
          },
          "execution_count": 28
        }
      ]
    },
    {
      "cell_type": "markdown",
      "metadata": {
        "id": "lVz_oKgmufpP"
      },
      "source": [
        "The numerical columns dont have minimum values with entries below 0 apart of latitude and longitude"
      ]
    },
    {
      "cell_type": "markdown",
      "metadata": {
        "id": "TqFHsUNQmkr6"
      },
      "source": [
        "### Bivariate Analysis"
      ]
    },
    {
      "cell_type": "code",
      "metadata": {
        "colab": {
          "base_uri": "https://localhost:8080/",
          "height": 838
        },
        "id": "otmNRtwigMXo",
        "outputId": "421986b2-6b68-409e-878a-69079b2c40bb"
      },
      "source": [
        "#heat map showing correlation among variables\n",
        "corr = house.corr()\n",
        "plt.figure(figsize=(15,13))\n",
        "sns.heatmap(corr,xticklabels=corr.columns,yticklabels=corr.columns,linewidth=2.0,annot=True)\n",
        "plt.title('Correlation heatmap of numerical variables',fontsize=18,weight='bold',loc='left')\n",
        "plt.show()"
      ],
      "execution_count": 29,
      "outputs": [
        {
          "output_type": "display_data",
          "data": {
            "image/png": "[encoded data removed]",
            "text/plain": [
              "<Figure size 1080x936 with 2 Axes>"
            ]
          },
          "metadata": {
            "tags": [],
            "needs_background": "light"
          }
        }
      ]
    },
    {
      "cell_type": "markdown",
      "metadata": {
        "id": "Vq2aBpMPwMyU"
      },
      "source": [
        "* Price is positively correlated with number of bathrooms,square foot living,grade, and square foot above.\n",
        "* Number of bedrooms is positively correlated with bathrooms and square foot above.\n",
        "* Square foot living of the 15 closest houses is positively correlated with square feet above and grade.\n",
        "* Year built is negatively correlated with condition, and basement.\n",
        "* Finally, condition is negatively correlated with the number of floors within the houses.\n"
      ]
    },
    {
      "cell_type": "markdown",
      "metadata": {
        "id": "RkpvGSupxMyF"
      },
      "source": [
        "### Scatterplots"
      ]
    },
    {
      "cell_type": "code",
      "metadata": {
        "colab": {
          "base_uri": "https://localhost:8080/",
          "height": 295
        },
        "id": "v1dyPzVm3QEU",
        "outputId": "6a0bde93-dbcb-4cda-87a0-c51a696aaaeb"
      },
      "source": [
        "#scatter plots of price and bathroom\n",
        "house.plot(x='price',y='bathrooms',kind='scatter')\n",
        "plt.title('Price vs number of bathrooms',fontsize=12,weight='bold')\n",
        "plt.ylabel('Number of bathrooms')\n",
        "plt.xlabel('Price')\n",
        "plt.show()"
      ],
      "execution_count": 30,
      "outputs": [
        {
          "output_type": "display_data",
          "data": {
            "image/png": "[encoded data removed]",
            "text/plain": [
              "<Figure size 432x288 with 1 Axes>"
            ]
          },
          "metadata": {
            "tags": [],
            "needs_background": "light"
          }
        }
      ]
    },
    {
      "cell_type": "markdown",
      "metadata": {
        "id": "F7D2a65HMHok"
      },
      "source": [
        "There is a moderate correlation between price and number of prices"
      ]
    },
    {
      "cell_type": "code",
      "metadata": {
        "colab": {
          "base_uri": "https://localhost:8080/",
          "height": 295
        },
        "id": "8wWhIaxnMN0y",
        "outputId": "26a1c1dd-d0b1-4eaa-f517-a367d6e8f692"
      },
      "source": [
        "#scatter plot of house pricing and square of living space\n",
        "house.plot(x='price',y='sqft_living',kind='scatter')\n",
        "plt.title('Price vs Square foot of living')\n",
        "plt.ylabel('Square foot of living space')\n",
        "plt.xlabel('Price')\n",
        "plt.show()"
      ],
      "execution_count": 31,
      "outputs": [
        {
          "output_type": "display_data",
          "data": {
            "image/png": "[encoded data removed]",
            "text/plain": [
              "<Figure size 432x288 with 1 Axes>"
            ]
          },
          "metadata": {
            "tags": [],
            "needs_background": "light"
          }
        }
      ]
    },
    {
      "cell_type": "markdown",
      "metadata": {
        "id": "bV35X3_VN2x7"
      },
      "source": [
        "There is a positive correlation between price and square foot of the living space "
      ]
    },
    {
      "cell_type": "code",
      "metadata": {
        "colab": {
          "base_uri": "https://localhost:8080/",
          "height": 295
        },
        "id": "G9UJ4rLRMwzP",
        "outputId": "72ee136e-5c1c-4653-c9ae-25ead79e7756"
      },
      "source": [
        "#scatter plot of grade against house price\n",
        "house.plot(x='price',y='grade',kind='scatter',color='black')\n",
        "plt.title('Price against grade of the house')\n",
        "plt.ylabel('Grade of the house')\n",
        "plt.xlabel('Price')\n",
        "plt.show()"
      ],
      "execution_count": 32,
      "outputs": [
        {
          "output_type": "display_data",
          "data": {
            "image/png": "[encoded data removed]",
            "text/plain": [
              "<Figure size 432x288 with 1 Axes>"
            ]
          },
          "metadata": {
            "tags": [],
            "needs_background": "light"
          }
        }
      ]
    },
    {
      "cell_type": "markdown",
      "metadata": {
        "id": "Br3D760HOASy"
      },
      "source": [
        "There is a positive correlation between grade and prices, seen in the steps in the different grades."
      ]
    },
    {
      "cell_type": "code",
      "metadata": {
        "colab": {
          "base_uri": "https://localhost:8080/",
          "height": 295
        },
        "id": "FinOLai-NHNX",
        "outputId": "83f3cd09-cb5b-4f54-f559-00b8cf145def"
      },
      "source": [
        "#scatter plot of price vs square foot above\n",
        "house.plot(x='price',y='sqft_above',kind='scatter',color='black')\n",
        "plt.title('Price against square foot above')\n",
        "plt.ylabel('Square foot of the space above')\n",
        "plt.xlabel('Price')\n",
        "plt.show()"
      ],
      "execution_count": 33,
      "outputs": [
        {
          "output_type": "display_data",
          "data": {
            "image/png": "[encoded data removed]",
            "text/plain": [
              "<Figure size 432x288 with 1 Axes>"
            ]
          },
          "metadata": {
            "tags": [],
            "needs_background": "light"
          }
        }
      ]
    },
    {
      "cell_type": "markdown",
      "metadata": {
        "id": "rv2WfAYZOTUg"
      },
      "source": [
        "Scatterplot of square foot of the space above and price have a similar shape to that of the square foot of the living space, all with a positive correlation with price"
      ]
    },
    {
      "cell_type": "code",
      "metadata": {
        "colab": {
          "base_uri": "https://localhost:8080/",
          "height": 295
        },
        "id": "V6082pnfOU5l",
        "outputId": "165329fc-d2b9-40c5-fa3c-908f60b31895"
      },
      "source": [
        "#scatterplot of bedrooms and bathrooms\n",
        "house.plot(x='price',y='bathrooms',kind='scatter',color='black')\n",
        "plt.title('Comparison of price and number of bathrooms')\n",
        "plt.ylabel('Bathroom')\n",
        "plt.xlabel('Price')\n",
        "plt.show()"
      ],
      "execution_count": 34,
      "outputs": [
        {
          "output_type": "display_data",
          "data": {
            "image/png": "[encoded data removed]",
            "text/plain": [
              "<Figure size 432x288 with 1 Axes>"
            ]
          },
          "metadata": {
            "tags": [],
            "needs_background": "light"
          }
        }
      ]
    },
    {
      "cell_type": "markdown",
      "metadata": {
        "id": "CwZF58t7QoFE"
      },
      "source": [
        "There is a positive correlation between number of bathrooms and prices"
      ]
    },
    {
      "cell_type": "code",
      "metadata": {
        "colab": {
          "base_uri": "https://localhost:8080/",
          "height": 463
        },
        "id": "jcVk5U7AQ2pY",
        "outputId": "b476dd2f-b9af-43d2-8a83-dbee9cecc41a"
      },
      "source": [
        "year_built = house.groupby('yr_built')['price'].mean().reset_index(name= 'Average price per year of house built')\n",
        "\n",
        "# Plot a line graph using the above grouped data \n",
        "x = year_built['yr_built']\n",
        "y= year_built['Average price per year of house built']\n",
        "plt.figure(figsize=(7,7))\n",
        "plt.title(\"Line graph for average prices per year of house built\",weight='bold',fontsize=15)\n",
        "plt.plot(x,y, color = 'red', marker='o', linestyle = '-')\n",
        "plt.xlabel('Year built',fontsize=(12))\n",
        "plt.ylabel('Price',fontsize=(12))\n",
        "plt.show()"
      ],
      "execution_count": 35,
      "outputs": [
        {
          "output_type": "display_data",
          "data": {
            "image/png": "[encoded data removed]",
            "text/plain": [
              "<Figure size 504x504 with 1 Axes>"
            ]
          },
          "metadata": {
            "tags": [],
            "needs_background": "light"
          }
        }
      ]
    },
    {
      "cell_type": "markdown",
      "metadata": {
        "id": "Ufd-yAbhTbOo"
      },
      "source": [
        ">> The prices of housing was high from 1900 to around 1920, where they dropped slightly in 1920s, and then decreased in the 1930s before taking a sharp fall in in mid 1940s. The prices have since stabilised without major spikes from mid 1940s to 2020."
      ]
    },
    {
      "cell_type": "markdown",
      "metadata": {
        "id": "J95fc2W0VzpU"
      },
      "source": [
        "### Multivariate Analysis:\n",
        ">> Principal Component Analysis"
      ]
    },
    {
      "cell_type": "code",
      "metadata": {
        "id": "qy-OYQSrWAp7",
        "colab": {
          "base_uri": "https://localhost:8080/"
        },
        "outputId": "e3fa01cd-2c05-4d74-ccc9-99d733b42b4b"
      },
      "source": [
        "X = house.drop('price',1)\n",
        "y = house['price']\n",
        "#splitting the dataset into train and test dataset\n",
        "X_train,X_test,y_train,y_test = train_test_split(X,y,test_size=0.2,random_state=42) \n",
        "#normalizing the feature set\n",
        "from sklearn.preprocessing import StandardScaler\n",
        "sc = StandardScaler()\n",
        "X_train = sc.fit_transform(X_train)\n",
        "X_test = sc.fit_transform(X_test)\n",
        "\n",
        "#using pca\n",
        "from sklearn.decomposition import PCA\n",
        "pca = PCA()\n",
        "X_train = pca.fit_transform(X_train)\n",
        "X_test = pca.fit_transform(X_test)\n",
        "pca.explained_variance_ratio_"
      ],
      "execution_count": 36,
      "outputs": [
        {
          "output_type": "execute_result",
          "data": {
            "text/plain": [
              "array([2.92634585e-01, 1.25427095e-01, 1.05457021e-01, 7.57823117e-02,\n",
              "       6.67203098e-02, 5.51731146e-02, 4.85531474e-02, 4.62780083e-02,\n",
              "       3.63098752e-02, 3.20586109e-02, 2.70311218e-02, 2.20118789e-02,\n",
              "       1.79339911e-02, 1.38095441e-02, 1.29560747e-02, 1.15124161e-02,\n",
              "       1.03508946e-02, 6.35777185e-33])"
            ]
          },
          "metadata": {
            "tags": []
          },
          "execution_count": 36
        }
      ]
    },
    {
      "cell_type": "markdown",
      "metadata": {
        "id": "RTYL6zBTblcT"
      },
      "source": [
        "The first three priniipal components have a high variance compared to the rest however this variance is minimal"
      ]
    },
    {
      "cell_type": "code",
      "metadata": {
        "id": "_-n_TNrebymt"
      },
      "source": [
        "#using random forest for classification \n",
        "from sklearn.ensemble import RandomForestClassifier\n",
        "classified = RandomForestClassifier(max_depth=2,random_state=42)\n",
        "classified.fit(X_train,y_train)\n",
        "y_pred = classified.predict(X_test)"
      ],
      "execution_count": 37,
      "outputs": []
    },
    {
      "cell_type": "code",
      "metadata": {
        "id": "ehPvI08scQhC",
        "colab": {
          "base_uri": "https://localhost:8080/"
        },
        "outputId": "5f68815e-6899-41ae-fc83-8c2408b888e2"
      },
      "source": [
        "#evaluating performance\n",
        "from sklearn.metrics import accuracy_score\n",
        "from sklearn.metrics import confusion_matrix\n",
        "\n",
        "confusion = confusion_matrix(y_test,y_pred)\n",
        "print(confusion)\n",
        "accuracy = accuracy_score(y_test,y_pred)\n",
        "print('Accuracy score:',accuracy)"
      ],
      "execution_count": 38,
      "outputs": [
        {
          "output_type": "stream",
          "text": [
            "[[0 0 0 ... 0 0 0]\n",
            " [0 0 0 ... 0 0 0]\n",
            " [0 0 0 ... 0 0 0]\n",
            " ...\n",
            " [0 0 0 ... 0 0 0]\n",
            " [0 0 0 ... 0 0 0]\n",
            " [0 0 0 ... 0 0 0]]\n",
            "Accuracy score: 0.0071726052753354926\n"
          ],
          "name": "stdout"
        }
      ]
    },
    {
      "cell_type": "markdown",
      "metadata": {
        "id": "ZSN6Niv8ddpK"
      },
      "source": [
        "The accuracy score for the pca is  0.71% which means that pca has has unable to correctly classify values within this dataset."
      ]
    },
    {
      "cell_type": "markdown",
      "metadata": {
        "id": "vTbdjSrhVIiT"
      },
      "source": [
        "## 7. Implementing the Solution"
      ]
    },
    {
      "cell_type": "markdown",
      "metadata": {
        "id": "ElkvWVrKea5D"
      },
      "source": [
        "### Checking for multicollinearity using VIF"
      ]
    },
    {
      "cell_type": "code",
      "metadata": {
        "colab": {
          "base_uri": "https://localhost:8080/",
          "height": 638
        },
        "id": "iwndEctYeTG7",
        "outputId": "ab67fdec-cc62-465e-d024-8a4090133e86"
      },
      "source": [
        "#checking for multicollinearity\n",
        "corr = house.corr()\n",
        "pd.DataFrame(np.linalg.inv(corr.values),index= corr.index,columns = corr.columns)"
      ],
      "execution_count": 39,
      "outputs": [
        {
          "output_type": "execute_result",
          "data": {
            "text/html": [
              "<div>\n",
              "<style scoped>\n",
              "    .dataframe tbody tr th:only-of-type {\n",
              "        vertical-align: middle;\n",
              "    }\n",
              "\n",
              "    .dataframe tbody tr th {\n",
              "        vertical-align: top;\n",
              "    }\n",
              "\n",
              "    .dataframe thead th {\n",
              "        text-align: right;\n",
              "    }\n",
              "</style>\n",
              "<table border=\"1\" class=\"dataframe\">\n",
              "  <thead>\n",
              "    <tr style=\"text-align: right;\">\n",
              "      <th></th>\n",
              "      <th>price</th>\n",
              "      <th>bedrooms</th>\n",
              "      <th>bathrooms</th>\n",
              "      <th>sqft_living</th>\n",
              "      <th>sqft_lot</th>\n",
              "      <th>floors</th>\n",
              "      <th>waterfront</th>\n",
              "      <th>view</th>\n",
              "      <th>condition</th>\n",
              "      <th>grade</th>\n",
              "      <th>sqft_above</th>\n",
              "      <th>sqft_basement</th>\n",
              "      <th>yr_built</th>\n",
              "      <th>yr_renovated</th>\n",
              "      <th>zipcode</th>\n",
              "      <th>lat</th>\n",
              "      <th>long</th>\n",
              "      <th>sqft_living15</th>\n",
              "      <th>sqft_lot15</th>\n",
              "    </tr>\n",
              "  </thead>\n",
              "  <tbody>\n",
              "    <tr>\n",
              "      <th>price</th>\n",
              "      <td>3.331152</td>\n",
              "      <td>0.301698</td>\n",
              "      <td>-0.286949</td>\n",
              "      <td>-1.043460e+00</td>\n",
              "      <td>-0.048124</td>\n",
              "      <td>-0.033122</td>\n",
              "      <td>-0.457064</td>\n",
              "      <td>-0.368434</td>\n",
              "      <td>-0.156072</td>\n",
              "      <td>-1.023203</td>\n",
              "      <td>-4.187807e-01</td>\n",
              "      <td>-9.965264e-02</td>\n",
              "      <td>0.698282</td>\n",
              "      <td>-0.072941</td>\n",
              "      <td>0.282677</td>\n",
              "      <td>-0.757515</td>\n",
              "      <td>0.274198</td>\n",
              "      <td>-0.134711</td>\n",
              "      <td>0.094665</td>\n",
              "    </tr>\n",
              "    <tr>\n",
              "      <th>bedrooms</th>\n",
              "      <td>0.301698</td>\n",
              "      <td>1.679355</td>\n",
              "      <td>-0.487414</td>\n",
              "      <td>-1.176450e+00</td>\n",
              "      <td>0.044970</td>\n",
              "      <td>0.046899</td>\n",
              "      <td>0.021678</td>\n",
              "      <td>0.081061</td>\n",
              "      <td>-0.064752</td>\n",
              "      <td>0.214121</td>\n",
              "      <td>6.440149e-02</td>\n",
              "      <td>2.842323e-02</td>\n",
              "      <td>0.197724</td>\n",
              "      <td>0.039191</td>\n",
              "      <td>0.105766</td>\n",
              "      <td>-0.017749</td>\n",
              "      <td>0.042365</td>\n",
              "      <td>0.013152</td>\n",
              "      <td>0.093987</td>\n",
              "    </tr>\n",
              "    <tr>\n",
              "      <th>bathrooms</th>\n",
              "      <td>-0.286949</td>\n",
              "      <td>-0.487414</td>\n",
              "      <td>3.376068</td>\n",
              "      <td>-1.760721e+00</td>\n",
              "      <td>-0.019907</td>\n",
              "      <td>-0.672697</td>\n",
              "      <td>0.049465</td>\n",
              "      <td>-0.010620</td>\n",
              "      <td>-0.123837</td>\n",
              "      <td>-0.180120</td>\n",
              "      <td>4.308178e-01</td>\n",
              "      <td>-1.783026e-01</td>\n",
              "      <td>-0.995918</td>\n",
              "      <td>-0.254161</td>\n",
              "      <td>0.017436</td>\n",
              "      <td>0.024210</td>\n",
              "      <td>0.030220</td>\n",
              "      <td>0.103708</td>\n",
              "      <td>0.063268</td>\n",
              "    </tr>\n",
              "    <tr>\n",
              "      <th>sqft_living</th>\n",
              "      <td>-1.046791</td>\n",
              "      <td>-1.177154</td>\n",
              "      <td>-1.763580</td>\n",
              "      <td>-1.596554e+13</td>\n",
              "      <td>-0.154621</td>\n",
              "      <td>0.551072</td>\n",
              "      <td>-0.276797</td>\n",
              "      <td>0.517300</td>\n",
              "      <td>-0.461670</td>\n",
              "      <td>-1.355850</td>\n",
              "      <td>1.439481e+13</td>\n",
              "      <td>7.693525e+12</td>\n",
              "      <td>0.440198</td>\n",
              "      <td>-0.108225</td>\n",
              "      <td>-0.376113</td>\n",
              "      <td>0.244743</td>\n",
              "      <td>-0.062350</td>\n",
              "      <td>-0.928253</td>\n",
              "      <td>-0.118412</td>\n",
              "    </tr>\n",
              "    <tr>\n",
              "      <th>sqft_lot</th>\n",
              "      <td>-0.048124</td>\n",
              "      <td>0.044970</td>\n",
              "      <td>-0.019907</td>\n",
              "      <td>-1.557089e-01</td>\n",
              "      <td>2.103202</td>\n",
              "      <td>0.045698</td>\n",
              "      <td>0.033973</td>\n",
              "      <td>-0.053791</td>\n",
              "      <td>0.032779</td>\n",
              "      <td>-0.039019</td>\n",
              "      <td>-3.926166e-02</td>\n",
              "      <td>4.110696e-02</td>\n",
              "      <td>0.088656</td>\n",
              "      <td>0.022350</td>\n",
              "      <td>-0.006663</td>\n",
              "      <td>0.064276</td>\n",
              "      <td>-0.137176</td>\n",
              "      <td>0.165854</td>\n",
              "      <td>-1.460652</td>\n",
              "    </tr>\n",
              "    <tr>\n",
              "      <th>floors</th>\n",
              "      <td>-0.033122</td>\n",
              "      <td>0.046899</td>\n",
              "      <td>-0.672697</td>\n",
              "      <td>5.523962e-01</td>\n",
              "      <td>0.045698</td>\n",
              "      <td>2.012191</td>\n",
              "      <td>-0.000967</td>\n",
              "      <td>-0.036468</td>\n",
              "      <td>0.091411</td>\n",
              "      <td>-0.219721</td>\n",
              "      <td>-9.892833e-01</td>\n",
              "      <td>3.546520e-01</td>\n",
              "      <td>-0.487868</td>\n",
              "      <td>-0.079223</td>\n",
              "      <td>-0.173584</td>\n",
              "      <td>-0.120054</td>\n",
              "      <td>0.161255</td>\n",
              "      <td>0.273684</td>\n",
              "      <td>0.071751</td>\n",
              "    </tr>\n",
              "    <tr>\n",
              "      <th>waterfront</th>\n",
              "      <td>-0.457064</td>\n",
              "      <td>0.021678</td>\n",
              "      <td>0.049465</td>\n",
              "      <td>-2.765929e-01</td>\n",
              "      <td>0.033973</td>\n",
              "      <td>-0.000967</td>\n",
              "      <td>1.266682</td>\n",
              "      <td>-0.442302</td>\n",
              "      <td>0.008595</td>\n",
              "      <td>0.189682</td>\n",
              "      <td>3.241927e-01</td>\n",
              "      <td>2.123151e-01</td>\n",
              "      <td>-0.116906</td>\n",
              "      <td>-0.055842</td>\n",
              "      <td>-0.016224</td>\n",
              "      <td>0.113750</td>\n",
              "      <td>-0.010387</td>\n",
              "      <td>0.072871</td>\n",
              "      <td>-0.031468</td>\n",
              "    </tr>\n",
              "    <tr>\n",
              "      <th>view</th>\n",
              "      <td>-0.368434</td>\n",
              "      <td>0.081061</td>\n",
              "      <td>-0.010620</td>\n",
              "      <td>5.165071e-01</td>\n",
              "      <td>-0.053791</td>\n",
              "      <td>-0.036468</td>\n",
              "      <td>-0.442302</td>\n",
              "      <td>1.476069</td>\n",
              "      <td>-0.003866</td>\n",
              "      <td>-0.072241</td>\n",
              "      <td>-2.758190e-01</td>\n",
              "      <td>-4.385889e-01</td>\n",
              "      <td>0.074402</td>\n",
              "      <td>-0.031054</td>\n",
              "      <td>-0.171902</td>\n",
              "      <td>0.202435</td>\n",
              "      <td>0.041630</td>\n",
              "      <td>-0.310420</td>\n",
              "      <td>-0.017944</td>\n",
              "    </tr>\n",
              "    <tr>\n",
              "      <th>condition</th>\n",
              "      <td>-0.156072</td>\n",
              "      <td>-0.064752</td>\n",
              "      <td>-0.123837</td>\n",
              "      <td>-4.619669e-01</td>\n",
              "      <td>0.032779</td>\n",
              "      <td>0.091411</td>\n",
              "      <td>0.008595</td>\n",
              "      <td>-0.003866</td>\n",
              "      <td>1.256772</td>\n",
              "      <td>-0.006544</td>\n",
              "      <td>5.358110e-01</td>\n",
              "      <td>1.534168e-01</td>\n",
              "      <td>0.528747</td>\n",
              "      <td>0.210328</td>\n",
              "      <td>0.148029</td>\n",
              "      <td>0.099217</td>\n",
              "      <td>-0.019739</td>\n",
              "      <td>0.082218</td>\n",
              "      <td>-0.032674</td>\n",
              "    </tr>\n",
              "    <tr>\n",
              "      <th>grade</th>\n",
              "      <td>-1.023203</td>\n",
              "      <td>0.214121</td>\n",
              "      <td>-0.180120</td>\n",
              "      <td>-1.359012e+00</td>\n",
              "      <td>-0.039019</td>\n",
              "      <td>-0.219721</td>\n",
              "      <td>0.189682</td>\n",
              "      <td>-0.072241</td>\n",
              "      <td>-0.006544</td>\n",
              "      <td>3.732814</td>\n",
              "      <td>3.220824e-02</td>\n",
              "      <td>3.535914e-01</td>\n",
              "      <td>-0.852826</td>\n",
              "      <td>-0.049030</td>\n",
              "      <td>-0.003655</td>\n",
              "      <td>-0.098411</td>\n",
              "      <td>0.309109</td>\n",
              "      <td>-0.870797</td>\n",
              "      <td>0.042851</td>\n",
              "    </tr>\n",
              "    <tr>\n",
              "      <th>sqft_above</th>\n",
              "      <td>-0.417568</td>\n",
              "      <td>0.063004</td>\n",
              "      <td>0.434668</td>\n",
              "      <td>1.439481e+13</td>\n",
              "      <td>-0.040299</td>\n",
              "      <td>-0.988463</td>\n",
              "      <td>0.324339</td>\n",
              "      <td>-0.276366</td>\n",
              "      <td>0.535502</td>\n",
              "      <td>0.029496</td>\n",
              "      <td>-1.297862e+13</td>\n",
              "      <td>-6.936619e+12</td>\n",
              "      <td>-0.162855</td>\n",
              "      <td>0.126225</td>\n",
              "      <td>0.147933</td>\n",
              "      <td>0.270128</td>\n",
              "      <td>-0.397215</td>\n",
              "      <td>-0.643008</td>\n",
              "      <td>-0.107698</td>\n",
              "    </tr>\n",
              "    <tr>\n",
              "      <th>sqft_basement</th>\n",
              "      <td>-0.098302</td>\n",
              "      <td>0.028303</td>\n",
              "      <td>-0.177635</td>\n",
              "      <td>7.693525e+12</td>\n",
              "      <td>0.040634</td>\n",
              "      <td>0.355506</td>\n",
              "      <td>0.212419</td>\n",
              "      <td>-0.439026</td>\n",
              "      <td>0.153199</td>\n",
              "      <td>0.352264</td>\n",
              "      <td>-6.936619e+12</td>\n",
              "      <td>-3.707381e+12</td>\n",
              "      <td>-0.093237</td>\n",
              "      <td>0.051289</td>\n",
              "      <td>0.048821</td>\n",
              "      <td>-0.062072</td>\n",
              "      <td>0.128174</td>\n",
              "      <td>0.000573</td>\n",
              "      <td>-0.019633</td>\n",
              "    </tr>\n",
              "    <tr>\n",
              "      <th>yr_built</th>\n",
              "      <td>0.698282</td>\n",
              "      <td>0.197724</td>\n",
              "      <td>-0.995918</td>\n",
              "      <td>4.403560e-01</td>\n",
              "      <td>0.088656</td>\n",
              "      <td>-0.487868</td>\n",
              "      <td>-0.116906</td>\n",
              "      <td>0.074402</td>\n",
              "      <td>0.528747</td>\n",
              "      <td>-0.852826</td>\n",
              "      <td>-1.629981e-01</td>\n",
              "      <td>-9.331339e-02</td>\n",
              "      <td>2.576301</td>\n",
              "      <td>0.518396</td>\n",
              "      <td>0.316033</td>\n",
              "      <td>0.151546</td>\n",
              "      <td>-0.448040</td>\n",
              "      <td>0.049296</td>\n",
              "      <td>-0.013878</td>\n",
              "    </tr>\n",
              "    <tr>\n",
              "      <th>yr_renovated</th>\n",
              "      <td>-0.072941</td>\n",
              "      <td>0.039191</td>\n",
              "      <td>-0.254161</td>\n",
              "      <td>-1.087087e-01</td>\n",
              "      <td>0.022350</td>\n",
              "      <td>-0.079223</td>\n",
              "      <td>-0.055842</td>\n",
              "      <td>-0.031054</td>\n",
              "      <td>0.210328</td>\n",
              "      <td>-0.049030</td>\n",
              "      <td>1.266610e-01</td>\n",
              "      <td>5.152181e-02</td>\n",
              "      <td>0.518396</td>\n",
              "      <td>1.152092</td>\n",
              "      <td>0.030616</td>\n",
              "      <td>0.062729</td>\n",
              "      <td>-0.060110</td>\n",
              "      <td>0.102201</td>\n",
              "      <td>-0.024266</td>\n",
              "    </tr>\n",
              "    <tr>\n",
              "      <th>zipcode</th>\n",
              "      <td>0.282677</td>\n",
              "      <td>0.105766</td>\n",
              "      <td>0.017436</td>\n",
              "      <td>-3.758206e-01</td>\n",
              "      <td>-0.006663</td>\n",
              "      <td>-0.173584</td>\n",
              "      <td>-0.016224</td>\n",
              "      <td>-0.171902</td>\n",
              "      <td>0.148029</td>\n",
              "      <td>-0.003655</td>\n",
              "      <td>1.476696e-01</td>\n",
              "      <td>4.867993e-02</td>\n",
              "      <td>0.316033</td>\n",
              "      <td>0.030616</td>\n",
              "      <td>1.686069</td>\n",
              "      <td>-0.372388</td>\n",
              "      <td>0.757116</td>\n",
              "      <td>0.198783</td>\n",
              "      <td>-0.007454</td>\n",
              "    </tr>\n",
              "    <tr>\n",
              "      <th>lat</th>\n",
              "      <td>-0.757515</td>\n",
              "      <td>-0.017749</td>\n",
              "      <td>0.024210</td>\n",
              "      <td>2.440169e-01</td>\n",
              "      <td>0.064276</td>\n",
              "      <td>-0.120054</td>\n",
              "      <td>0.113750</td>\n",
              "      <td>0.202435</td>\n",
              "      <td>0.099217</td>\n",
              "      <td>-0.098411</td>\n",
              "      <td>2.707829e-01</td>\n",
              "      <td>-6.172146e-02</td>\n",
              "      <td>0.151546</td>\n",
              "      <td>0.062729</td>\n",
              "      <td>-0.372388</td>\n",
              "      <td>1.352934</td>\n",
              "      <td>-0.163128</td>\n",
              "      <td>-0.064060</td>\n",
              "      <td>0.015121</td>\n",
              "    </tr>\n",
              "    <tr>\n",
              "      <th>long</th>\n",
              "      <td>0.274198</td>\n",
              "      <td>0.042365</td>\n",
              "      <td>0.030220</td>\n",
              "      <td>-6.191007e-02</td>\n",
              "      <td>-0.137176</td>\n",
              "      <td>0.161255</td>\n",
              "      <td>-0.010387</td>\n",
              "      <td>0.041630</td>\n",
              "      <td>-0.019739</td>\n",
              "      <td>0.309109</td>\n",
              "      <td>-3.976116e-01</td>\n",
              "      <td>1.279618e-01</td>\n",
              "      <td>-0.448040</td>\n",
              "      <td>-0.060110</td>\n",
              "      <td>0.757116</td>\n",
              "      <td>-0.163128</td>\n",
              "      <td>1.848091</td>\n",
              "      <td>-0.365453</td>\n",
              "      <td>-0.153090</td>\n",
              "    </tr>\n",
              "    <tr>\n",
              "      <th>sqft_living15</th>\n",
              "      <td>-0.134711</td>\n",
              "      <td>0.013152</td>\n",
              "      <td>0.103708</td>\n",
              "      <td>-9.299650e-01</td>\n",
              "      <td>0.165854</td>\n",
              "      <td>0.273684</td>\n",
              "      <td>0.072871</td>\n",
              "      <td>-0.310420</td>\n",
              "      <td>0.082218</td>\n",
              "      <td>-0.870797</td>\n",
              "      <td>-6.414645e-01</td>\n",
              "      <td>1.397402e-03</td>\n",
              "      <td>0.049296</td>\n",
              "      <td>0.102201</td>\n",
              "      <td>0.198783</td>\n",
              "      <td>-0.064060</td>\n",
              "      <td>-0.365453</td>\n",
              "      <td>2.985040</td>\n",
              "      <td>-0.129433</td>\n",
              "    </tr>\n",
              "    <tr>\n",
              "      <th>sqft_lot15</th>\n",
              "      <td>0.094665</td>\n",
              "      <td>0.093987</td>\n",
              "      <td>0.063268</td>\n",
              "      <td>-1.171172e-01</td>\n",
              "      <td>-1.460652</td>\n",
              "      <td>0.071751</td>\n",
              "      <td>-0.031468</td>\n",
              "      <td>-0.017944</td>\n",
              "      <td>-0.032674</td>\n",
              "      <td>0.042851</td>\n",
              "      <td>-1.088658e-01</td>\n",
              "      <td>-2.025689e-02</td>\n",
              "      <td>-0.013878</td>\n",
              "      <td>-0.024266</td>\n",
              "      <td>-0.007454</td>\n",
              "      <td>0.015121</td>\n",
              "      <td>-0.153090</td>\n",
              "      <td>-0.129433</td>\n",
              "      <td>2.138317</td>\n",
              "    </tr>\n",
              "  </tbody>\n",
              "</table>\n",
              "</div>"
            ],
            "text/plain": [
              "                  price  bedrooms  ...  sqft_living15  sqft_lot15\n",
              "price          3.331152  0.301698  ...      -0.134711    0.094665\n",
              "bedrooms       0.301698  1.679355  ...       0.013152    0.093987\n",
              "bathrooms     -0.286949 -0.487414  ...       0.103708    0.063268\n",
              "sqft_living   -1.046791 -1.177154  ...      -0.928253   -0.118412\n",
              "sqft_lot      -0.048124  0.044970  ...       0.165854   -1.460652\n",
              "floors        -0.033122  0.046899  ...       0.273684    0.071751\n",
              "waterfront    -0.457064  0.021678  ...       0.072871   -0.031468\n",
              "view          -0.368434  0.081061  ...      -0.310420   -0.017944\n",
              "condition     -0.156072 -0.064752  ...       0.082218   -0.032674\n",
              "grade         -1.023203  0.214121  ...      -0.870797    0.042851\n",
              "sqft_above    -0.417568  0.063004  ...      -0.643008   -0.107698\n",
              "sqft_basement -0.098302  0.028303  ...       0.000573   -0.019633\n",
              "yr_built       0.698282  0.197724  ...       0.049296   -0.013878\n",
              "yr_renovated  -0.072941  0.039191  ...       0.102201   -0.024266\n",
              "zipcode        0.282677  0.105766  ...       0.198783   -0.007454\n",
              "lat           -0.757515 -0.017749  ...      -0.064060    0.015121\n",
              "long           0.274198  0.042365  ...      -0.365453   -0.153090\n",
              "sqft_living15 -0.134711  0.013152  ...       2.985040   -0.129433\n",
              "sqft_lot15     0.094665  0.093987  ...      -0.129433    2.138317\n",
              "\n",
              "[19 rows x 19 columns]"
            ]
          },
          "metadata": {
            "tags": []
          },
          "execution_count": 39
        }
      ]
    },
    {
      "cell_type": "markdown",
      "metadata": {
        "id": "RuXqdBFJfmLI"
      },
      "source": [
        "There is no multicollinearity within this dataset"
      ]
    },
    {
      "cell_type": "markdown",
      "metadata": {
        "id": "wivWNloN7GKt"
      },
      "source": [
        "### Multiple Linear Regression"
      ]
    },
    {
      "cell_type": "code",
      "metadata": {
        "colab": {
          "base_uri": "https://localhost:8080/"
        },
        "id": "frF0ja546xYb",
        "outputId": "b33c68f5-f598-4b44-f29e-e74346687595"
      },
      "source": [
        "x = house[['bedrooms', 'bathrooms', 'sqft_living', 'sqft_lot', 'floors',\n",
        "       'waterfront', 'view', 'condition', 'grade', 'sqft_above',\n",
        "       'sqft_basement', 'yr_built', 'yr_renovated', 'zipcode', 'lat', 'long',\n",
        "       'sqft_living15', 'sqft_lot15']]\n",
        "y = house['price'].values.reshape(-1,1)\n",
        "from sklearn.linear_model import LinearRegression\n",
        "le = LinearRegression(fit_intercept=True,normalize=True)\n",
        "#x_train,x_test,y_train,y_test = train_test_split(x,y,random_state=42,test_size=0.2)\n",
        "le.fit(x,y)\n",
        "y_pred_lin = le.predict(x)\n",
        "from sklearn.metrics import r2_score\n",
        "#making predictions\n",
        "print('Mean squared error:',mean_squared_error(y,y_pred_lin))\n",
        "print('Root mean squared error:',np.sqrt(mean_squared_error(y,y_pred_lin)))\n",
        "print('R2 score:',np.sqrt(r2_score(y,y_pred_lin)))\n",
        "print('Linear coefficients: ',le.coef_.tolist())"
      ],
      "execution_count": 126,
      "outputs": [
        {
          "output_type": "stream",
          "text": [
            "Mean squared error: 40519386486.312805\n",
            "Root mean squared error: 201294.2783248267\n",
            "R2 score: 0.8365426299317529\n",
            "Linear coefficients:  [[-35775.56717884098, 41088.76364435262, 89.12127896962161, 0.12812851349400015, 6766.109342193902, 582598.1380510345, 53037.02612900228, 26450.504782342003, 96004.06737733076, 92.1868814890241, 61.07027040009647, -2622.1032881378287, 20.03611105409857, -582.6741616968056, 602893.8562143771, -214739.9354234034, 21.676551461994258, -0.38234835296315395]]\n"
          ],
          "name": "stdout"
        }
      ]
    },
    {
      "cell_type": "markdown",
      "metadata": {
        "id": "Bok_LPf7Oag4"
      },
      "source": [
        "The results show that the r2_score is 0.83, which implies that 83% of price can be determined by the x variables."
      ]
    },
    {
      "cell_type": "markdown",
      "metadata": {
        "id": "FENddQFF_RW4"
      },
      "source": [
        "> #### Residual plot: Multiple Linear Regression"
      ]
    },
    {
      "cell_type": "code",
      "metadata": {
        "colab": {
          "base_uri": "https://localhost:8080/"
        },
        "id": "1yaccYHiPXcK",
        "outputId": "67eec447-c560-477d-fed9-c020fccb16df"
      },
      "source": [
        "#splitting the dataset into train and test sets\n",
        "x_train,x_test,y_train,y_test = train_test_split(x,y,random_state=42,test_size=0.2)\n",
        "#fitting into the linear regression\n",
        "le.fit(x_train,y_train)\n",
        "#predicting test set\n",
        "y_pred_lin = le.predict(x_test)\n",
        "#getting residuals. Which is the difference between y_test(actual values) and y_pred(predicted values)\n",
        "residuals = np.subtract(y_pred_lin,y_test)\n",
        "\n",
        "#getting the mean of the variables\n",
        "residuals.mean()"
      ],
      "execution_count": 72,
      "outputs": [
        {
          "output_type": "execute_result",
          "data": {
            "text/plain": [
              "-4637.8310926474505"
            ]
          },
          "metadata": {
            "tags": []
          },
          "execution_count": 72
        }
      ]
    },
    {
      "cell_type": "code",
      "metadata": {
        "colab": {
          "base_uri": "https://localhost:8080/",
          "height": 290
        },
        "id": "xGu1WmBal7ij",
        "outputId": "b515d9a8-452b-46b1-9bfe-856491d47022"
      },
      "source": [
        "#plotting the residual plots\n",
        "plt.scatter(y_pred_lin,residuals,color='black')\n",
        "plt.ylabel('residual')\n",
        "plt.xlabel('fitted values')\n",
        "plt.axhline(y=residuals.mean(),color='yellow',linewidth=1)\n",
        "plt.show()"
      ],
      "execution_count": 43,
      "outputs": [
        {
          "output_type": "display_data",
          "data": {
            "image/png": "[encoded data removed]",
            "text/plain": [
              "<Figure size 432x288 with 1 Axes>"
            ]
          },
          "metadata": {
            "tags": [],
            "needs_background": "light"
          }
        }
      ]
    },
    {
      "cell_type": "markdown",
      "metadata": {
        "id": "y28sKjAOtwSI"
      },
      "source": [
        "> ### Testing for heteroscedasticity: Bartlett's test"
      ]
    },
    {
      "cell_type": "code",
      "metadata": {
        "id": "HuBMBy8Kt7Fo",
        "colab": {
          "base_uri": "https://localhost:8080/"
        },
        "outputId": "9757fbad-e36f-4dc5-bdcd-c802210bb9ed"
      },
      "source": [
        "import scipy as sp\n",
        "\n",
        "test_result, p_value = sp.stats.bartlett(y_pred_lin.flatten(), residuals.flatten())#used the flatten function to copy the values as one dimensional\n",
        "\n",
        "#degrees of freedom\n",
        "df = len(y_pred_lin) - 1\n",
        "probability = 1 - p_value\n",
        "critical_val = sp.stats.chi2.ppf(probability,df)\n",
        "\n",
        "#deciding whether to reject or fail to reject the null hypothesis\n",
        "# basing it on test value and critical value\n",
        "if (test_result > critical_val):\n",
        "  print('The variances are unequal')\n",
        "else:\n",
        "    print('The variances are homogenous')\n",
        "   "
      ],
      "execution_count": 44,
      "outputs": [
        {
          "output_type": "stream",
          "text": [
            "The variances are homogenous\n"
          ],
          "name": "stdout"
        }
      ]
    },
    {
      "cell_type": "markdown",
      "metadata": {
        "id": "VWirsoOytj-2"
      },
      "source": [
        "The residuals are centered around the mean which is very close to 0 and the variances homogenous"
      ]
    },
    {
      "cell_type": "markdown",
      "metadata": {
        "id": "USVtkB1Z1tpi"
      },
      "source": [
        "### Quantile Regression"
      ]
    },
    {
      "cell_type": "code",
      "metadata": {
        "colab": {
          "base_uri": "https://localhost:8080/",
          "height": 318
        },
        "id": "1KXWFFQo1-sP",
        "outputId": "e861d46b-64ad-4aab-8584-f5a6f18cc53a"
      },
      "source": [
        "#importing library \n",
        "import statsmodels.formula.api as smf\n",
        "#splitting the dataset into x and y variables\n",
        "x = house[['sqft_above', 'bathrooms', 'sqft_living','grade']].values\n",
        "y = house.price.values.reshape(-1,1)\n",
        "#specifying the  model to predict usingmedian, upper and lower bound at 75% confidence level \n",
        "mod = smf.quantreg('price ~ sqft_above+ bathrooms+ sqft_living+grade',house)\n",
        "\n",
        "quantiles = np.arange(0.1,1,0.1)\n",
        "\n",
        "model = []\n",
        "params = []\n",
        "\n",
        "for qt in quantiles:\n",
        "  res = mod.fit(q = qt)\n",
        "  model.append(res)\n",
        "  params.append([qt, res.params['Intercept'], res.params['sqft_above'],res.params['bathrooms'],res.params['sqft_living'],res.params['grade']]) #+ res.conf_int().loc['x'].tolist())#.loc['x] access\n",
        "#making a dataframe\n",
        "params = pd.DataFrame(data = params, columns = ['quantiles', 'intercept','sqft above','bathrooms','sqft living','grade'])\n",
        "params\n"
      ],
      "execution_count": 117,
      "outputs": [
        {
          "output_type": "execute_result",
          "data": {
            "text/html": [
              "<div>\n",
              "<style scoped>\n",
              "    .dataframe tbody tr th:only-of-type {\n",
              "        vertical-align: middle;\n",
              "    }\n",
              "\n",
              "    .dataframe tbody tr th {\n",
              "        vertical-align: top;\n",
              "    }\n",
              "\n",
              "    .dataframe thead th {\n",
              "        text-align: right;\n",
              "    }\n",
              "</style>\n",
              "<table border=\"1\" class=\"dataframe\">\n",
              "  <thead>\n",
              "    <tr style=\"text-align: right;\">\n",
              "      <th></th>\n",
              "      <th>quantiles</th>\n",
              "      <th>intercept</th>\n",
              "      <th>sqft above</th>\n",
              "      <th>bathrooms</th>\n",
              "      <th>sqft living</th>\n",
              "      <th>grade</th>\n",
              "    </tr>\n",
              "  </thead>\n",
              "  <tbody>\n",
              "    <tr>\n",
              "      <th>0</th>\n",
              "      <td>0.1</td>\n",
              "      <td>-291288.889341</td>\n",
              "      <td>-19.042457</td>\n",
              "      <td>88.888907</td>\n",
              "      <td>88.672087</td>\n",
              "      <td>59251.851903</td>\n",
              "    </tr>\n",
              "    <tr>\n",
              "      <th>1</th>\n",
              "      <td>0.2</td>\n",
              "      <td>-446240.991928</td>\n",
              "      <td>-33.822301</td>\n",
              "      <td>-12003.831209</td>\n",
              "      <td>115.391076</td>\n",
              "      <td>86434.953262</td>\n",
              "    </tr>\n",
              "    <tr>\n",
              "      <th>2</th>\n",
              "      <td>0.3</td>\n",
              "      <td>-502284.098015</td>\n",
              "      <td>-44.053562</td>\n",
              "      <td>-27238.936483</td>\n",
              "      <td>141.029949</td>\n",
              "      <td>99707.991255</td>\n",
              "    </tr>\n",
              "    <tr>\n",
              "      <th>3</th>\n",
              "      <td>0.4</td>\n",
              "      <td>-495804.622877</td>\n",
              "      <td>-56.877322</td>\n",
              "      <td>-32509.930502</td>\n",
              "      <td>163.921201</td>\n",
              "      <td>102775.058389</td>\n",
              "    </tr>\n",
              "    <tr>\n",
              "      <th>4</th>\n",
              "      <td>0.5</td>\n",
              "      <td>-494925.391996</td>\n",
              "      <td>-70.090131</td>\n",
              "      <td>-33694.069527</td>\n",
              "      <td>185.049231</td>\n",
              "      <td>105744.512616</td>\n",
              "    </tr>\n",
              "    <tr>\n",
              "      <th>5</th>\n",
              "      <td>0.6</td>\n",
              "      <td>-486279.816250</td>\n",
              "      <td>-86.777279</td>\n",
              "      <td>-37242.666236</td>\n",
              "      <td>214.091953</td>\n",
              "      <td>107246.825779</td>\n",
              "    </tr>\n",
              "    <tr>\n",
              "      <th>6</th>\n",
              "      <td>0.7</td>\n",
              "      <td>-498588.167795</td>\n",
              "      <td>-110.245988</td>\n",
              "      <td>-49301.986685</td>\n",
              "      <td>255.267142</td>\n",
              "      <td>113415.760946</td>\n",
              "    </tr>\n",
              "    <tr>\n",
              "      <th>7</th>\n",
              "      <td>0.8</td>\n",
              "      <td>-509758.254044</td>\n",
              "      <td>-118.141363</td>\n",
              "      <td>-60764.716393</td>\n",
              "      <td>296.606027</td>\n",
              "      <td>117976.470363</td>\n",
              "    </tr>\n",
              "    <tr>\n",
              "      <th>8</th>\n",
              "      <td>0.9</td>\n",
              "      <td>-543366.488708</td>\n",
              "      <td>-90.771652</td>\n",
              "      <td>-85503.337784</td>\n",
              "      <td>364.336405</td>\n",
              "      <td>121451.935929</td>\n",
              "    </tr>\n",
              "  </tbody>\n",
              "</table>\n",
              "</div>"
            ],
            "text/plain": [
              "   quantiles      intercept  ...  sqft living          grade\n",
              "0        0.1 -291288.889341  ...    88.672087   59251.851903\n",
              "1        0.2 -446240.991928  ...   115.391076   86434.953262\n",
              "2        0.3 -502284.098015  ...   141.029949   99707.991255\n",
              "3        0.4 -495804.622877  ...   163.921201  102775.058389\n",
              "4        0.5 -494925.391996  ...   185.049231  105744.512616\n",
              "5        0.6 -486279.816250  ...   214.091953  107246.825779\n",
              "6        0.7 -498588.167795  ...   255.267142  113415.760946\n",
              "7        0.8 -509758.254044  ...   296.606027  117976.470363\n",
              "8        0.9 -543366.488708  ...   364.336405  121451.935929\n",
              "\n",
              "[9 rows x 6 columns]"
            ]
          },
          "metadata": {
            "tags": []
          },
          "execution_count": 117
        }
      ]
    },
    {
      "cell_type": "code",
      "metadata": {
        "colab": {
          "base_uri": "https://localhost:8080/",
          "height": 358
        },
        "id": "3oBtq2prGeXE",
        "outputId": "6a3125fe-fbbf-43a9-ca84-8821d96e37fb"
      },
      "source": [
        "#getting summary results for the quantile regression\n",
        "res.summary()"
      ],
      "execution_count": 46,
      "outputs": [
        {
          "output_type": "execute_result",
          "data": {
            "text/html": [
              "<table class=\"simpletable\">\n",
              "<caption>QuantReg Regression Results</caption>\n",
              "<tr>\n",
              "  <th>Dep. Variable:</th>       <td>price</td>      <th>  Pseudo R-squared:  </th> <td>  0.4159</td> \n",
              "</tr>\n",
              "<tr>\n",
              "  <th>Model:</th>             <td>QuantReg</td>     <th>  Bandwidth:         </th> <td>2.969e+04</td>\n",
              "</tr>\n",
              "<tr>\n",
              "  <th>Method:</th>          <td>Least Squares</td>  <th>  Sparsity:          </th> <td>1.287e+06</td>\n",
              "</tr>\n",
              "<tr>\n",
              "  <th>Date:</th>          <td>Sat, 29 May 2021</td> <th>  No. Observations:  </th>  <td> 21608</td>  \n",
              "</tr>\n",
              "<tr>\n",
              "  <th>Time:</th>              <td>13:36:33</td>     <th>  Df Residuals:      </th>  <td> 21603</td>  \n",
              "</tr>\n",
              "<tr>\n",
              "  <th> </th>                      <td> </td>        <th>  Df Model:          </th>  <td>     4</td>  \n",
              "</tr>\n",
              "</table>\n",
              "<table class=\"simpletable\">\n",
              "<tr>\n",
              "       <td></td>          <th>coef</th>     <th>std err</th>      <th>t</th>      <th>P>|t|</th>  <th>[0.025</th>    <th>0.975]</th>  \n",
              "</tr>\n",
              "<tr>\n",
              "  <th>Intercept</th>   <td>-5.434e+05</td> <td> 2.61e+04</td> <td>  -20.826</td> <td> 0.000</td> <td>-5.95e+05</td> <td>-4.92e+05</td>\n",
              "</tr>\n",
              "<tr>\n",
              "  <th>sqft_above</th>  <td>  -90.7717</td> <td>    6.690</td> <td>  -13.569</td> <td> 0.000</td> <td> -103.884</td> <td>  -77.659</td>\n",
              "</tr>\n",
              "<tr>\n",
              "  <th>bathrooms</th>   <td> -8.55e+04</td> <td> 5847.992</td> <td>  -14.621</td> <td> 0.000</td> <td> -9.7e+04</td> <td> -7.4e+04</td>\n",
              "</tr>\n",
              "<tr>\n",
              "  <th>sqft_living</th> <td>  364.3364</td> <td>    7.258</td> <td>   50.195</td> <td> 0.000</td> <td>  350.109</td> <td>  378.563</td>\n",
              "</tr>\n",
              "<tr>\n",
              "  <th>grade</th>       <td> 1.215e+05</td> <td> 4214.464</td> <td>   28.818</td> <td> 0.000</td> <td> 1.13e+05</td> <td>  1.3e+05</td>\n",
              "</tr>\n",
              "</table><br/><br/>The condition number is large, 2.43e+04. This might indicate that there are<br/>strong multicollinearity or other numerical problems."
            ],
            "text/plain": [
              "<class 'statsmodels.iolib.summary.Summary'>\n",
              "\"\"\"\n",
              "                         QuantReg Regression Results                          \n",
              "==============================================================================\n",
              "Dep. Variable:                  price   Pseudo R-squared:               0.4159\n",
              "Model:                       QuantReg   Bandwidth:                   2.969e+04\n",
              "Method:                 Least Squares   Sparsity:                    1.287e+06\n",
              "Date:                Sat, 29 May 2021   No. Observations:                21608\n",
              "Time:                        13:36:33   Df Residuals:                    21603\n",
              "                                        Df Model:                            4\n",
              "===============================================================================\n",
              "                  coef    std err          t      P>|t|      [0.025      0.975]\n",
              "-------------------------------------------------------------------------------\n",
              "Intercept   -5.434e+05   2.61e+04    -20.826      0.000   -5.95e+05   -4.92e+05\n",
              "sqft_above    -90.7717      6.690    -13.569      0.000    -103.884     -77.659\n",
              "bathrooms    -8.55e+04   5847.992    -14.621      0.000    -9.7e+04    -7.4e+04\n",
              "sqft_living   364.3364      7.258     50.195      0.000     350.109     378.563\n",
              "grade        1.215e+05   4214.464     28.818      0.000    1.13e+05     1.3e+05\n",
              "===============================================================================\n",
              "\n",
              "The condition number is large, 2.43e+04. This might indicate that there are\n",
              "strong multicollinearity or other numerical problems.\n",
              "\"\"\""
            ]
          },
          "metadata": {
            "tags": []
          },
          "execution_count": 46
        }
      ]
    },
    {
      "cell_type": "markdown",
      "metadata": {
        "id": "e8ayZS3XAfCr"
      },
      "source": [
        "> **Results deduce**:\n",
        "* At the 10 percentile, a unit increase in the square foot above will lead to approximately 19.04 shillings decrease in price, same case as at 20% all the way to 90%\n",
        "* However for bathrooms it only shows a negative relationship at the 10%, where a unit increase in the  number of bathrooms leads to  88shillings  increase in price,odd given that intuitively the more the bathrooms the higher the housing price\n",
        "* For the living space and the grade, the price increase is explained by the unit increase of both the variables.\n",
        "* From the summary, the pseudo r2 is 0.4159, thus the variables chosen dont fully explain the housing price. "
      ]
    },
    {
      "cell_type": "markdown",
      "metadata": {
        "id": "1WflHM79JZy-"
      },
      "source": [
        "####**Limitation to Quantile Regression**\n",
        "* The quantile regression should only be used when there is a significant difference between linear coefficients and quantile coefficients.\n"
      ]
    },
    {
      "cell_type": "markdown",
      "metadata": {
        "id": "tiCpbnQ1HV02"
      },
      "source": [
        "### Ridge Regression"
      ]
    },
    {
      "cell_type": "code",
      "metadata": {
        "colab": {
          "base_uri": "https://localhost:8080/"
        },
        "id": "kNMAxcvTHs88",
        "outputId": "71565506-96e6-48e7-cf08-31f8bdbff22e"
      },
      "source": [
        "#specifying the x and y variables\n",
        "x = house[['bedrooms', 'bathrooms', 'sqft_living', 'sqft_lot', 'floors',\n",
        "       'waterfront', 'view', 'condition', 'grade', 'sqft_above',\n",
        "       'sqft_basement', 'yr_built', 'yr_renovated', 'zipcode', 'lat', 'long',\n",
        "       'sqft_living15', 'sqft_lot15']].values\n",
        "y = house['price'].values\n",
        "\n",
        "#scaling the values of x\n",
        "sc = StandardScaler()\n",
        "sc.fit_transform(x)\n",
        "\n",
        "X_train,X_test,y_train,y_test = train_test_split(x,y,random_state=42,test_size=0.2)\n",
        "#using GridSearchCross Validation with 10 folds to fit the model and search for the best parameters and get performance score\n",
        "ridge = Ridge(normalize=True)\n",
        "search = GridSearchCV(estimator=ridge,param_grid={'alpha': np.logspace(-5,2,8)},scoring='neg_mean_squared_error',n_jobs=1,refit=True,cv=10)\n",
        "search.fit(x_train,y_train)\n",
        "print(search.best_params_)\n",
        "{'alpha':0.001}\n",
        "abs(search.best_score_)\n"
      ],
      "execution_count": 62,
      "outputs": [
        {
          "output_type": "stream",
          "text": [
            "{'alpha': 0.001}\n"
          ],
          "name": "stdout"
        },
        {
          "output_type": "execute_result",
          "data": {
            "text/plain": [
              "40322519315.21951"
            ]
          },
          "metadata": {
            "tags": []
          },
          "execution_count": 62
        }
      ]
    },
    {
      "cell_type": "markdown",
      "metadata": {
        "id": "aRbdJHv4JNyC"
      },
      "source": [
        "The best hyperparameter is 0.001 and score is 40322519315.21951"
      ]
    },
    {
      "cell_type": "code",
      "metadata": {
        "colab": {
          "base_uri": "https://localhost:8080/"
        },
        "id": "HrLqFKPOJSgd",
        "outputId": "79f06191-ccd3-4d96-9498-708eabd6b93b"
      },
      "source": [
        "#finding the root mean squared error and r2 score\n",
        "ridge = Ridge(normalize=True,alpha=0.001)\n",
        "ridge.fit(x_train,y_train)\n",
        "print('Root mean squared error: ',np.sqrt(mean_squared_error(y_test,y_pred=ridge.predict(x_test))))\n",
        "print('R2 score: ',r2_score(y_test,y_pred))"
      ],
      "execution_count": 63,
      "outputs": [
        {
          "output_type": "stream",
          "text": [
            "Root mean squared error:  205882.9046733805\n",
            "R2 score:  -0.18410667074322817\n"
          ],
          "name": "stdout"
        }
      ]
    },
    {
      "cell_type": "markdown",
      "metadata": {
        "id": "0rIO0fvxWFHJ"
      },
      "source": [
        "> **Results show that**:\n",
        "* Root Mean squared error of ridge regression(205882.9046733805) is greater than multiple linear regression of 201294.2783248267. In this case the multiple linear regression should be used. \n",
        "* This can also be seen in the low r2 score of the ridge regression of (-18.41%) compared to the high score of 83%\n"
      ]
    },
    {
      "cell_type": "markdown",
      "metadata": {
        "id": "EmEyW_QYOBPO"
      },
      "source": [
        "**Limitation of Ridge Regression** \n",
        "> * Ridge regression is effective in grouping features regardless of their weights by squaring the size of the regression coefficients and reducing them to a value close to 0, however it doesnt completely eliminate these values."
      ]
    },
    {
      "cell_type": "markdown",
      "metadata": {
        "id": "X4ZX3gpIrLWz"
      },
      "source": [
        "> #### Residual plot: Ridge Regression"
      ]
    },
    {
      "cell_type": "code",
      "metadata": {
        "colab": {
          "base_uri": "https://localhost:8080/"
        },
        "id": "J4tdMDpeaEWa",
        "outputId": "57f57a7d-0119-4896-f97c-91990d0d5785"
      },
      "source": [
        "#getting the residual mean\n",
        "y_predridge = ridge.predict(x_test)\n",
        "residuals = np.subtract(y_predridge,y_test)\n",
        "residuals.mean()"
      ],
      "execution_count": 67,
      "outputs": [
        {
          "output_type": "execute_result",
          "data": {
            "text/plain": [
              "-4641.036350455073"
            ]
          },
          "metadata": {
            "tags": []
          },
          "execution_count": 67
        }
      ]
    },
    {
      "cell_type": "code",
      "metadata": {
        "colab": {
          "base_uri": "https://localhost:8080/",
          "height": 296
        },
        "id": "new2rBbJasMu",
        "outputId": "80eb64f7-246d-436a-f6de-ad6157293098"
      },
      "source": [
        "#plotting the residual plots\n",
        "plt.scatter(y_predridge,residuals,color='black')\n",
        "plt.ylabel('residual')\n",
        "plt.xlabel('fitted values')\n",
        "plt.axhline(y=residuals.mean(),color='yellow',linewidth=1)\n",
        "plt.title('Ridge regression residual plot',fontsize=14,weight='bold')\n",
        "plt.show()"
      ],
      "execution_count": 104,
      "outputs": [
        {
          "output_type": "display_data",
          "data": {
            "image/png": "[encoded data removed]",
            "text/plain": [
              "<Figure size 432x288 with 1 Axes>"
            ]
          },
          "metadata": {
            "tags": [],
            "needs_background": "light"
          }
        }
      ]
    },
    {
      "cell_type": "markdown",
      "metadata": {
        "id": "j-iTXYPObJI5"
      },
      "source": [
        "> #### Checking for heteroscedasticity: Bartlett's test"
      ]
    },
    {
      "cell_type": "code",
      "metadata": {
        "colab": {
          "base_uri": "https://localhost:8080/"
        },
        "id": "tBpC3FSpbq6X",
        "outputId": "b99c343a-6ed1-48a3-871c-9600b24896ef"
      },
      "source": [
        "test_result, p_value = sp.stats.bartlett(y_predridge.flatten(), residuals.flatten())#used the flatten function to copy the values as one dimensional\n",
        "\n",
        "#degrees of freedom\n",
        "df = len(y_predridge) - 1\n",
        "probability = 1 - p_value\n",
        "critical_val = sp.stats.chi2.ppf(probability,df)\n",
        "\n",
        "#deciding whether to reject or fail to reject the null hypothesis\n",
        "# basing it on test value and critical value\n",
        "if (test_result > critical_val):\n",
        "  print('The variances are unequal')\n",
        "else:\n",
        "    print('The variances are homogenous')"
      ],
      "execution_count": 70,
      "outputs": [
        {
          "output_type": "stream",
          "text": [
            "The variances are homogenous\n"
          ],
          "name": "stdout"
        }
      ]
    },
    {
      "cell_type": "markdown",
      "metadata": {
        "id": "KxjW31Pkb0qg"
      },
      "source": [
        "The variance for the ridge model is homogenous and centered around the mean of 0"
      ]
    },
    {
      "cell_type": "markdown",
      "metadata": {
        "id": "Ficdizh0THTN"
      },
      "source": [
        "### Lasso Regression"
      ]
    },
    {
      "cell_type": "markdown",
      "metadata": {
        "id": "4kdQrPYRXWGK"
      },
      "source": [
        "> *  Without cross validation"
      ]
    },
    {
      "cell_type": "code",
      "metadata": {
        "colab": {
          "base_uri": "https://localhost:8080/"
        },
        "id": "AJqe8E3-TPDV",
        "outputId": "0f59e72b-d691-46c0-8066-323de96784a8"
      },
      "source": [
        "x = house[['bedrooms', 'bathrooms', 'sqft_living', 'sqft_lot', 'floors',\n",
        "       'waterfront', 'view', 'condition', 'grade', 'sqft_above',\n",
        "       'sqft_basement', 'yr_built', 'yr_renovated', 'zipcode', 'lat', 'long',\n",
        "       'sqft_living15', 'sqft_lot15']].values\n",
        "y = house['price'].values\n",
        "\n",
        "#scaling the features\n",
        "sc = StandardScaler()\n",
        "sc.fit(x)"
      ],
      "execution_count": 73,
      "outputs": [
        {
          "output_type": "execute_result",
          "data": {
            "text/plain": [
              "StandardScaler(copy=True, with_mean=True, with_std=True)"
            ]
          },
          "metadata": {
            "tags": []
          },
          "execution_count": 73
        }
      ]
    },
    {
      "cell_type": "code",
      "metadata": {
        "colab": {
          "base_uri": "https://localhost:8080/"
        },
        "id": "FiNS9NqFWzgH",
        "outputId": "cdcb1923-7541-4993-a389-718ad788940a"
      },
      "source": [
        "#splitting the dataset\n",
        "x_train,x_test,y_train,y_test = train_test_split(x,y,random_state=42,test_size=0.2)\n",
        "lasso = Lasso()\n",
        "lasso.fit(x,y)"
      ],
      "execution_count": 74,
      "outputs": [
        {
          "output_type": "execute_result",
          "data": {
            "text/plain": [
              "Lasso(alpha=1.0, copy_X=True, fit_intercept=True, max_iter=1000,\n",
              "      normalize=False, positive=False, precompute=False, random_state=None,\n",
              "      selection='cyclic', tol=0.0001, warm_start=False)"
            ]
          },
          "metadata": {
            "tags": []
          },
          "execution_count": 74
        }
      ]
    },
    {
      "cell_type": "code",
      "metadata": {
        "colab": {
          "base_uri": "https://localhost:8080/"
        },
        "id": "rPWNUaGTXTbp",
        "outputId": "ae38ce42-247c-4221-ad0d-50d2650b71eb"
      },
      "source": [
        "#printing scores\n",
        "print('Lasso score: ',lasso.score(x,y))\n",
        "print('Mean squared error: ',mean_squared_error(y,lasso.predict(x)))\n",
        "print('Root Mean Squared Error ',np.sqrt(mean_squared_error(y,lasso.predict(x))))\n",
        "print('Lasso coefficients ',lasso.coef_)"
      ],
      "execution_count": 75,
      "outputs": [
        {
          "output_type": "stream",
          "text": [
            "Lasso score:  0.6998035694201614\n",
            "Mean squared error:  40519386793.110054\n",
            "Root Mean Squared Error  201294.27908688824\n",
            "Lasso coefficients  [-3.57745096e+04  4.10854197e+04  2.85068186e+02  1.28090686e-01\n",
            "  6.76508286e+03  5.82446663e+05  5.30421467e+04  2.64470808e+04\n",
            "  9.60067220e+04 -1.03759462e+02 -1.34871373e+02 -2.62223156e+03\n",
            "  2.00370791e+01 -5.82535375e+02  6.02829112e+05 -2.14650458e+05\n",
            "  2.16736667e+01 -3.82397384e-01]\n"
          ],
          "name": "stdout"
        }
      ]
    },
    {
      "cell_type": "markdown",
      "metadata": {
        "id": "PJmMcl9gX-Ig"
      },
      "source": [
        "> * With cross validation"
      ]
    },
    {
      "cell_type": "code",
      "metadata": {
        "colab": {
          "base_uri": "https://localhost:8080/"
        },
        "id": "LykfgtCnYHQ5",
        "outputId": "434d7561-4213-4694-8eaa-970ed1433312"
      },
      "source": [
        "x_train,x_test,y_train,y_test = train_test_split(x,y, random_state=42,test_size=0.2)\n",
        "params = {'alpha': np.concatenate((np.arange(0.1,2,0.1),np.arange(2,5,0.5),np.arange(5,25,1)))}\n",
        "gridlasso = GridSearchCV(lasso,params,scoring='r2')\n",
        "gridlasso.fit(x_train,y_train)"
      ],
      "execution_count": 86,
      "outputs": [
        {
          "output_type": "execute_result",
          "data": {
            "text/plain": [
              "GridSearchCV(cv=None, error_score=nan,\n",
              "             estimator=Lasso(alpha=1.0, copy_X=True, fit_intercept=True,\n",
              "                             max_iter=1000, normalize=False, positive=False,\n",
              "                             precompute=False, random_state=None,\n",
              "                             selection='cyclic', tol=0.0001, warm_start=False),\n",
              "             iid='deprecated', n_jobs=None,\n",
              "             param_grid={'alpha': array([ 0.1,  0.2,  0.3,  0.4,  0.5,  0.6,  0.7,  0.8,  0.9,  1. ,  1.1,\n",
              "        1.2,  1.3,  1.4,  1.5,  1.6,  1.7,  1.8,  1.9,  2. ,  2.5,  3. ,\n",
              "        3.5,  4. ,  4.5,  5. ,  6. ,  7. ,  8. ,  9. , 10. , 11. , 12. ,\n",
              "       13. , 14. , 15. , 16. , 17. , 18. , 19. , 20. , 21. , 22. , 23. ,\n",
              "       24. ])},\n",
              "             pre_dispatch='2*n_jobs', refit=True, return_train_score=False,\n",
              "             scoring='r2', verbose=0)"
            ]
          },
          "metadata": {
            "tags": []
          },
          "execution_count": 86
        }
      ]
    },
    {
      "cell_type": "code",
      "metadata": {
        "colab": {
          "base_uri": "https://localhost:8080/"
        },
        "id": "pKuq62UTZEIp",
        "outputId": "52a918a1-601f-452d-81fd-7b46f8afe12c"
      },
      "source": [
        "print('Grid lasso score:',gridlasso.score(x_test,y_test))\n",
        "print('Grid Lasso mean squared error:',mean_squared_error(y_test,gridlasso.predict(x_test)))\n",
        "print('Grid lasso root mean squared error:',np.sqrt(mean_squared_error(y_test,gridlasso.predict(x_test))))\n",
        "print('Grid Lasso coefficients ',gridlasso.best_estimator_.coef_)"
      ],
      "execution_count": 88,
      "outputs": [
        {
          "output_type": "stream",
          "text": [
            "Grid lasso score: 0.7025866631213693\n",
            "Grid Lasso mean squared error: 42390232893.53057\n",
            "Grid lasso root mean squared error: 205888.88482268917\n",
            "Grid Lasso coefficients  [-3.43796226e+04  3.95058965e+04  2.85541461e+02  5.66879637e-02\n",
            "  6.27071203e+03  5.90831542e+05  5.21277266e+04  2.46153851e+04\n",
            "  9.66656112e+04 -1.01816036e+02 -1.34591020e+02 -2.64274983e+03\n",
            "  2.15858288e+01 -5.89008924e+02  5.94929180e+05 -2.06463228e+05\n",
            "  1.84096874e+01 -3.68996538e-01]\n"
          ],
          "name": "stdout"
        }
      ]
    },
    {
      "cell_type": "code",
      "metadata": {
        "colab": {
          "base_uri": "https://localhost:8080/",
          "height": 460
        },
        "id": "Lj5cjeweiaNW",
        "outputId": "a80b2224-3874-40fc-8707-e77d54599c41"
      },
      "source": [
        "coefslasso = []\n",
        "alphalasso = np.arange(0,20,0.1)\n",
        "for i in range(200):\n",
        "    lasso = Lasso(alpha = alphalasso[i])\n",
        "    lasso.fit(x_train,y_train)\n",
        "    coefslasso.append(lasso.coef_)\n",
        "\n",
        "#building the coefficient plots\n",
        "plt.figure(figsize=(20,7))\n",
        "\n",
        "plt.subplot(121)\n",
        "plt.plot(alphalasso,coefslasso)\n",
        "plt.title('Lasso coefficients',fontsize=16,weight='bold')\n",
        "plt.xlabel('alpha')\n",
        "plt.ylabel('coefficients')\n",
        "plt.show()"
      ],
      "execution_count": 101,
      "outputs": [
        {
          "output_type": "display_data",
          "data": {
            "image/png": "[encoded data removed]",
            "text/plain": [
              "<Figure size 1440x504 with 1 Axes>"
            ]
          },
          "metadata": {
            "tags": [],
            "needs_background": "light"
          }
        }
      ]
    },
    {
      "cell_type": "markdown",
      "metadata": {
        "id": "3q98pJj-lWG2"
      },
      "source": [
        ">> Lasso has reduced some of the regression coefficients  to exactly 0 as they dont have associations with price"
      ]
    },
    {
      "cell_type": "markdown",
      "metadata": {
        "id": "v06LeDkQcHjO"
      },
      "source": [
        "> #### Residual plot:Lasso Regression"
      ]
    },
    {
      "cell_type": "code",
      "metadata": {
        "colab": {
          "base_uri": "https://localhost:8080/"
        },
        "id": "5xKaRsbFaBIE",
        "outputId": "1a20fecd-2765-460e-b78f-fbe40e03e6d1"
      },
      "source": [
        "#getting the residual mean\n",
        "y_predgridlasso = gridlasso.predict(x_test)\n",
        "residuals = np.subtract(y_predgridlasso,y_test)\n",
        "residuals.mean()"
      ],
      "execution_count": 78,
      "outputs": [
        {
          "output_type": "execute_result",
          "data": {
            "text/plain": [
              "-4629.120765703393"
            ]
          },
          "metadata": {
            "tags": []
          },
          "execution_count": 78
        }
      ]
    },
    {
      "cell_type": "code",
      "metadata": {
        "colab": {
          "base_uri": "https://localhost:8080/",
          "height": 296
        },
        "id": "fHsNBO7_d4gn",
        "outputId": "73042929-a433-4533-9b46-b0e091a1e125"
      },
      "source": [
        "#plotting the residual plots\n",
        "plt.scatter(y_predgridlasso,residuals,color='black')\n",
        "plt.ylabel('residual')\n",
        "plt.xlabel('fitted values')\n",
        "plt.axhline(y=residuals.mean(),color='yellow',linewidth=1)\n",
        "plt.title('Residual plot for the lasso regression',fontsize=14,weight='bold')\n",
        "plt.show()"
      ],
      "execution_count": 103,
      "outputs": [
        {
          "output_type": "display_data",
          "data": {
            "image/png": "[encoded data removed]",
            "text/plain": [
              "<Figure size 432x288 with 1 Axes>"
            ]
          },
          "metadata": {
            "tags": [],
            "needs_background": "light"
          }
        }
      ]
    },
    {
      "cell_type": "code",
      "metadata": {
        "colab": {
          "base_uri": "https://localhost:8080/"
        },
        "id": "ExYk_N8weIZ_",
        "outputId": "4d2469ff-1a21-4d07-fd55-ff45ba139b0e"
      },
      "source": [
        "test_result, p_value = sp.stats.bartlett(y_predgridlasso, residuals)#used the flatten function to copy the values as one dimensional\n",
        "\n",
        "#degrees of freedom\n",
        "df = len(y_predgridlasso) - 1\n",
        "probability = 1 - p_value\n",
        "critical_val = sp.stats.chi2.ppf(probability,df)\n",
        "\n",
        "#deciding whether to reject or fail to reject the null hypothesis\n",
        "# basing it on test value and critical value\n",
        "if (test_result > critical_val):\n",
        "  print('The variances are unequal')\n",
        "else:\n",
        "    print('The variances are homogenous')"
      ],
      "execution_count": 81,
      "outputs": [
        {
          "output_type": "stream",
          "text": [
            "The variances are homogenous\n"
          ],
          "name": "stdout"
        }
      ]
    },
    {
      "cell_type": "markdown",
      "metadata": {
        "id": "CQl1elRhfavp"
      },
      "source": [
        "There are no variations and variances are centered around the mean of 0."
      ]
    },
    {
      "cell_type": "markdown",
      "metadata": {
        "id": "GEyLu94hehM-"
      },
      "source": [
        ">> **Results show**:\n",
        "* Using lasso regression, the mean squared error without cross validation is lesser than  with cross validation\n",
        " * Lasso rmse is 201294.27908688824 and multiple linear rmse is 201294.2783248267 which are slightly similar. These scores are less than grid lasso rmse score of 205888.88482268917\n",
        "\n"
      ]
    },
    {
      "cell_type": "markdown",
      "metadata": {
        "id": "JSy4y6dAQgq-"
      },
      "source": [
        "**Limitation**\n",
        "* Lasso cannot carry out feature selection, if the predictor variables are highly correlated lasso only picks high coefficients and shrinks low regression coefficients to 0\n"
      ]
    },
    {
      "cell_type": "markdown",
      "metadata": {
        "id": "8grUBawPTLcc"
      },
      "source": [
        "###Elastic Net Regression"
      ]
    },
    {
      "cell_type": "code",
      "metadata": {
        "colab": {
          "base_uri": "https://localhost:8080/"
        },
        "id": "d2VYn9T1ZpL5",
        "outputId": "d8190a0b-5a2d-44f7-a1f5-875b89f1d01f"
      },
      "source": [
        "#specifying the x and y variables\n",
        "x = house[['bedrooms', 'bathrooms', 'sqft_living', 'sqft_lot', 'floors',\n",
        "       'waterfront', 'view', 'condition', 'grade', 'sqft_above',\n",
        "       'sqft_basement', 'yr_built', 'yr_renovated', 'zipcode', 'lat', 'long',\n",
        "       'sqft_living15', 'sqft_lot15']]\n",
        "y = house['price']\n",
        "#normalizing, and using GridSearchCv to get the best parameters and best score for our model\n",
        "elastic = ElasticNet(normalize=True)\n",
        "search = GridSearchCV(estimator=elastic,param_grid={'alpha':np.logspace(-5,2,8),'l1_ratio':[.2,.4,.6,.8]},scoring='neg_mean_squared_error',n_jobs=1,cv=10)\n",
        "search.fit(x,y)\n",
        "print(search.best_params_)\n",
        "print(abs(search.best_score_))"
      ],
      "execution_count": 111,
      "outputs": [
        {
          "output_type": "stream",
          "text": [
            "{'alpha': 1e-05, 'l1_ratio': 0.8}\n",
            "41058920151.34104\n"
          ],
          "name": "stdout"
        }
      ]
    },
    {
      "cell_type": "code",
      "metadata": {
        "colab": {
          "base_uri": "https://localhost:8080/"
        },
        "id": "QGv5lrbxpRLn",
        "outputId": "758033ae-eace-4739-d6bf-addd2f066817"
      },
      "source": [
        "#using the recommended values to get the mean squared error and root mean squared error\n",
        "elastic=ElasticNet(normalize=True,alpha=1e-05,l1_ratio=0.8)\n",
        "elastic.fit(X,y)\n",
        "print(mean_squared_error(y_true=y,y_pred=elastic.predict(X)))\n",
        "print(np.sqrt(mean_squared_error(y_true=y,y_pred=elastic.predict(X))))"
      ],
      "execution_count": 112,
      "outputs": [
        {
          "output_type": "stream",
          "text": [
            "40619978074.37614\n",
            "201543.9854582025\n"
          ],
          "name": "stdout"
        }
      ]
    },
    {
      "cell_type": "code",
      "metadata": {
        "colab": {
          "base_uri": "https://localhost:8080/"
        },
        "id": "7J_OrFPwp25m",
        "outputId": "1ad51dd8-10f2-4af5-b807-6e7a12e1764c"
      },
      "source": [
        "#getting the coefficients\n",
        "coef_dict_base = {}\n",
        "for coef,feat in zip(elastic.coef_,x.columns):\n",
        "  coef_dict_base[feat] = coef\n",
        "\n",
        "coef_dict_base"
      ],
      "execution_count": 113,
      "outputs": [
        {
          "output_type": "execute_result",
          "data": {
            "text/plain": [
              "{'bathrooms': 40082.830143097766,\n",
              " 'bedrooms': -30832.641706128412,\n",
              " 'condition': 27748.707500677167,\n",
              " 'floors': 9085.409363320086,\n",
              " 'grade': 89153.9728092799,\n",
              " 'lat': 583371.4178675867,\n",
              " 'long': -206607.00871439464,\n",
              " 'sqft_above': 87.4907631474782,\n",
              " 'sqft_basement': 61.335674085187,\n",
              " 'sqft_living': 85.36538035682388,\n",
              " 'sqft_living15': 32.0927235885926,\n",
              " 'sqft_lot': 0.12227137741472247,\n",
              " 'sqft_lot15': -0.33789284260772373,\n",
              " 'view': 53118.94925123262,\n",
              " 'waterfront': 564763.9645380373,\n",
              " 'yr_built': -2370.546942762645,\n",
              " 'yr_renovated': 24.12250248354622,\n",
              " 'zipcode': -497.24144965255465}"
            ]
          },
          "metadata": {
            "tags": []
          },
          "execution_count": 113
        }
      ]
    },
    {
      "cell_type": "markdown",
      "metadata": {
        "id": "cfWdDo73rNsC"
      },
      "source": [
        "> #### Residual plot: ElasticNet Regression"
      ]
    },
    {
      "cell_type": "code",
      "metadata": {
        "colab": {
          "base_uri": "https://localhost:8080/"
        },
        "id": "Uk0nwWuTq8bP",
        "outputId": "11ef864d-9a87-4674-fb55-dce08b347408"
      },
      "source": [
        "#splitting the dataset into train and test sets\n",
        "x_train,x_test,y_train,y_test = train_test_split(x,y,random_state=42,test_size=0.2)\n",
        "#fitting into the linear regression\n",
        "le.fit(x_train,y_train)\n",
        "#predicting test set\n",
        "y_pred_elastic = elastic.predict(x_test)\n",
        "#getting residuals.In this case, the difference between y_test(actual values) and y_pred(predicted values)\n",
        "residuals = np.subtract(y_pred_elastic,y_test)\n",
        "\n",
        "#getting the mean of the variables\n",
        "residuals.mean()"
      ],
      "execution_count": 114,
      "outputs": [
        {
          "output_type": "execute_result",
          "data": {
            "text/plain": [
              "-3791.6090065760845"
            ]
          },
          "metadata": {
            "tags": []
          },
          "execution_count": 114
        }
      ]
    },
    {
      "cell_type": "code",
      "metadata": {
        "colab": {
          "base_uri": "https://localhost:8080/",
          "height": 296
        },
        "id": "D5f7OVIcrGli",
        "outputId": "14c7bfdd-a8c2-4814-d127-3975f8759103"
      },
      "source": [
        "#plotting the residual plot\n",
        "plt.scatter(y_pred_elastic,residuals,color='black')\n",
        "plt.ylabel('residual')\n",
        "plt.xlabel('fitted values')\n",
        "plt.axhline(y=residuals.mean(),color='yellow',linewidth=1)\n",
        "plt.title('ElasticNet Residual plot',fontsize=14,weight='bold')\n",
        "plt.show()"
      ],
      "execution_count": 115,
      "outputs": [
        {
          "output_type": "display_data",
          "data": {
            "image/png": "[encoded data removed]",
            "text/plain": [
              "<Figure size 432x288 with 1 Axes>"
            ]
          },
          "metadata": {
            "tags": [],
            "needs_background": "light"
          }
        }
      ]
    },
    {
      "cell_type": "markdown",
      "metadata": {
        "id": "gMMMTSqnsGw0"
      },
      "source": [
        "> ####  Checking for heteroscedasticity: Bartlett's test"
      ]
    },
    {
      "cell_type": "code",
      "metadata": {
        "colab": {
          "base_uri": "https://localhost:8080/"
        },
        "id": "h6UeaUEFsWf6",
        "outputId": "50363c37-58d4-4d62-8f0e-9e2903f3c8d8"
      },
      "source": [
        "test_result, p_value = sp.stats.bartlett(y_pred_elastic, residuals)\n",
        "#used the flatten function to copy the values as one dimensional\n",
        "\n",
        "#degrees of freedom\n",
        "df = len(y_pred_elastic) - 1\n",
        "probability = 1 - p_value\n",
        "critical_val = sp.stats.chi2.ppf(probability,df)\n",
        "\n",
        "#deciding whether to reject or fail to reject the null hypothesis\n",
        "# basing it on test value and critical value\n",
        "if (test_result > critical_val):\n",
        "  print('The variances are unequal')\n",
        "else:\n",
        "    print('The variances are homogenous')"
      ],
      "execution_count": 116,
      "outputs": [
        {
          "output_type": "stream",
          "text": [
            "The variances are homogenous\n"
          ],
          "name": "stdout"
        }
      ]
    },
    {
      "cell_type": "markdown",
      "metadata": {
        "id": "cusi06xIsdg_"
      },
      "source": [
        "The variances are homogenous and centered around the mean"
      ]
    },
    {
      "cell_type": "markdown",
      "metadata": {
        "id": "79yb1q02UF8x"
      },
      "source": [
        "**Results show:**\n",
        "* The Elastic net rmse 201543.9854582025 is slightly greater than 201294.2783248267. Multiple Linear Regression will perform better in this case."
      ]
    },
    {
      "cell_type": "markdown",
      "metadata": {
        "id": "Treb5iQBRdp9"
      },
      "source": [
        "**Limitation**\n",
        "* ElasticNet Regression can lead to double shrinkage, which causes high high bias and poor predictions "
      ]
    },
    {
      "cell_type": "markdown",
      "metadata": {
        "id": "Mb_9IpYZU7HC"
      },
      "source": [
        "#### *In conclusion, multiple linear regression had the least rmse score implying its the most preferred model compared to other models.*"
      ]
    },
    {
      "cell_type": "markdown",
      "metadata": {
        "id": "xrmHVMVsVS--"
      },
      "source": [
        "## 9. Follow up questions"
      ]
    },
    {
      "cell_type": "markdown",
      "metadata": {
        "id": "HPQviDmNtta8"
      },
      "source": [
        "### a). Did we have the right data?\n",
        "We had the right data, the variables within the dataset was essential in making references to housing prices"
      ]
    },
    {
      "cell_type": "markdown",
      "metadata": {
        "id": "qjFHK1CKty7o"
      },
      "source": [
        "### b). Do we need other data to answer our question?\n",
        "It could be interesting to see if the models could achieve a better performance if variables such as mortgage availability was added."
      ]
    },
    {
      "cell_type": "markdown",
      "metadata": {
        "id": "HSsicSdvt4Zs"
      },
      "source": [
        "### c). Did we have the right question?\n",
        "Yes, the question was right the variables within the dataset all affect pricing."
      ]
    }
  ]
}